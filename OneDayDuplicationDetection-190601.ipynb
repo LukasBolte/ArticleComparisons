{
 "cells": [
  {
   "cell_type": "code",
   "execution_count": 1,
   "metadata": {},
   "outputs": [
    {
     "name": "stdout",
     "output_type": "stream",
     "text": [
      "dict_keys(['singletons', 'incompleteFingerprints', 'algoGroups', 'events', 'wordDict', 'entityDict'])\n",
      "Setup time: 3 seconds\n"
     ]
    }
   ],
   "source": [
    "import os\n",
    "import pandas as pd\n",
    "import numpy as np\n",
    "import matplotlib.pyplot as plt \n",
    "import documents as docs\n",
    "import textcomparisons as tc\n",
    "import random\n",
    "import time\n",
    "import json\n",
    "\n",
    "start = time.time()\n",
    "\n",
    "def readArticles(path):\n",
    "    \"\"\" Reads df of articles from the given path, and adds a column\n",
    "    to store the Document-processed article \"\"\"\n",
    "    article_df = pd.read_csv(path)\n",
    "    article_df[\"doc\"] = None\n",
    "    return article_df\n",
    "\n",
    "def dict_by_ids(df, ids):\n",
    "    \"\"\" Given a dataframe of articles and a list of article ids, \n",
    "    returns a dictionary with ids as keys and Documents as items, \n",
    "    computing and storing the Documents back in the df as needed\n",
    "    \"\"\"\n",
    "    doc_dict = {}\n",
    "    for doc_id in ids:\n",
    "        row = df[\"id\"] == doc_id\n",
    "        doc = df.loc[row, \"doc\"].iloc[0]\n",
    "        if doc is None:\n",
    "            doc = docs.Document(df.loc[row, \"text\"].iloc[0], clean = False)\n",
    "            df.loc[row, \"doc\"] = doc\n",
    "        doc_dict[doc_id] = doc\n",
    "    return doc_dict\n",
    "\n",
    "data_folder = \"data\"\n",
    "article_df = pd.read_pickle(os.path.join(data_folder, \"article_df_20190601\"))\n",
    "\n",
    "# events = [event for event in np.unique(article_df[\"event\"]) if not np.isnan(event)]\n",
    "event_path = os.path.join(data_folder, \"eventDict2019-06-01.json\")\n",
    "with open(event_path, encoding = \"utf8\") as json_file:\n",
    "    events = json.load(json_file)\n",
    "print(events.keys())\n",
    "article_df.head(3)\n",
    "\n",
    "print(\"Setup time: %d seconds\" % np.round(time.time() - start))"
   ]
  },
  {
   "cell_type": "code",
   "execution_count": 2,
   "metadata": {},
   "outputs": [
    {
     "name": "stdout",
     "output_type": "stream",
     "text": [
      "Number of singletons: 64173\n",
      "Number of articles clustered into top 50 events: 33124/100756 (.33)\n"
     ]
    }
   ],
   "source": [
    "N = len(article_df)\n",
    "N_top50 = np.sum(1 - np.isnan(article_df[\"event\"]))\n",
    "print(\"Number of singletons: %d\" % len(events['singletons']))\n",
    "print(\"Number of articles clustered into top 50 events: %d/%d (.%d)\" % (N_top50, N, round(N_top50/N, 2) * 100))\n",
    "\n",
    "ac = tc.ArticleComparisons()"
   ]
  },
  {
   "cell_type": "code",
   "execution_count": 23,
   "metadata": {},
   "outputs": [
    {
     "name": "stdout",
     "output_type": "stream",
     "text": [
      "Mean, 5/25/50/75/95 percentiles: 2822.965 [ 161.75  843.   1883.   4115.75 8157.7 ]\n"
     ]
    },
    {
     "data": {
      "image/png": "[encoded data removed]",
      "text/plain": [
       "<Figure size 432x288 with 1 Axes>"
      ]
     },
     "metadata": {
      "needs_background": "light"
     },
     "output_type": "display_data"
    }
   ],
   "source": [
    "n = 1000\n",
    "sample = random.sample(list(article_df[\"id\"]), n)\n",
    "article_dict = dict_by_ids(article_df, sample)\n",
    "start = time.time()\n",
    "\n",
    "text_len = [len(article_dict[id].text) for id in article_dict.keys()]\n",
    "plt.hist(text_len)\n",
    "plt.title(\"Length of raw text in %d sample articles\" % n)\n",
    "print(\"Mean, 5/25/50/75/95 percentiles:\", np.mean(text_len), np.percentile(text_len, [5, 25, 50, 75, 95]))"
   ]
  },
  {
   "cell_type": "code",
   "execution_count": 24,
   "metadata": {},
   "outputs": [],
   "source": [
    "start = time.time()\n",
    "# for i in range(len(article_df)):\n",
    "for i in sample:\n",
    "    if (len(sample) > 1000 and i % 100 == 0):\n",
    "        print(i, time.time() - start, \"seconds elapsed\")\n",
    "    # Suspicious if article contains keywords\n",
    "    isPaywall(i)"
   ]
  },
  {
   "cell_type": "code",
   "execution_count": 26,
   "metadata": {},
   "outputs": [
    {
     "name": "stdout",
     "output_type": "stream",
     "text": [
      "Sample 'bad' articles: \n",
      "Press J to jump to the feed. Press question mark to learn the rest of the keyboard shortcuts \n",
      " u/Dully-YT \n",
      "\n",
      "Don't have an account? Sign Up Today \n",
      " My Account \n",
      "\n",
      "Don't have an account? Sign Up Today \n",
      " My Account \n",
      " Clear skies. Low near 50F. Winds light and variable.. \n",
      " Tonight \n",
      " Clear skies. Low near 50F. Winds light and variable. \n",
      " Updated: June 1, 2019 @ 11:37 pm \n",
      " Noesi, Diaz spur New Orleans to 3-0 win over Nashville \n",
      " Jun 1, 2019 \n",
      " NASHVILLE, Tenn. (AP) -- Isan Diaz homered and had two hits, driving in two, and Hector Noesi struck out nine hitters over seven innings as the New Orleans Baby Cakes beat the Nashville Sounds 3-0 on Saturday. \n",
      " Noesi (5-2) allowed four hits while walking two to pick up the win. \n",
      " In the sixth inning, New Orleans went up 1-0 on a home run by Diaz. The Baby Cakes scored again in the eighth when Diaz hit an RBI triple and then scored on a single by Yadiel Rivera. \n",
      " Tim Dillard (3-5) went six innings, allowing one run and six hits while striking out five to take the hard-luck loss in the Pacific Coast League game. \n",
      " × \n",
      "\n",
      "SHARE \n",
      " COPY LINK \n",
      " Acting Charlotte Hornets coach Stephen Silas on matchup with the Miami Heat on Friday, Dec. 15, 2017, and the homestand. \n",
      "\n",
      "Newsmax, Moneynews, Newsmax Health, and Independent. American. are registered trademarks of Newsmax Media, Inc. Newsmax TV, and Newsmax World are trademarks of Newsmax Media, Inc. \n",
      " NEWSMAX.COM \n",
      "\n",
      "USAHM Conspiracy News \n",
      " Load More Stories \n",
      " Categories \n",
      "\n",
      "Events \n",
      " Get Madison Magazine delivered to your office or home. \n",
      " Gift subscriptions now available! \n",
      "\n",
      "The requested URL /RealMedia/ads/click_lx.ads/ibj/1213977427/Popup/default/empty.gif/4b45345574567a79362f6341435a744a was not found on this server. \n",
      " Apache/2.2.15 (CentOS) Server at oascentral.ibj.com Port 80 \n",
      "\n",
      "Central Washington eatery’s tamales recalled, not inspected | Biloxi Sun Herald \n",
      " Central Washington eatery’s tamales recalled, not inspected \n",
      " The Associated Press \n",
      " UNION GAP, Wash. \n",
      " More than 9,000 pounds of tamales made by a central Washington state restaurant is being recalled. \n",
      " The United States Department of Agriculture said Friday that Los Hernandez, LLC is recalling the chicken and pork tamales because they were produced without federal inspection. \n",
      " The food was shipped to the Los Hernandez Tamales Restaurant in Union Gap, Washington, between December 3 2018 and February 2019. \n",
      " The food had been sold as individual products to customers through May 1, 2019, which may still be in home freezers. \n",
      " Unlimited Digital Access: Only $0.99 For Your First Month \n",
      " Get full access to Sun Herald content across all your devices. \n",
      "\n",
      "Lime Pictures \n",
      " Episode 5183 | Airs Wednesday 05 June 2019 at 18:30 on Channel 4 \n",
      " As Liberty is presented with her traditional Indian wedding dresses, Peri is asked to be bridesmaid. They all dress up in their outfits and take photos for social media. \n",
      " Later, Ste spots the post and Jonny tells him he has to do something about it. \n",
      " Meanwhile, Tony is short-staffed for delivery drivers, so Harry offers to help. \n",
      " Writer: Mickey Jones \n",
      "\n"
     ]
    },
    {
     "data": {
      "text/plain": [
       "(183, 817)"
      ]
     },
     "execution_count": 26,
     "metadata": {},
     "output_type": "execute_result"
    }
   ],
   "source": [
    "article_dict_good = dict_by_ids(article_df, [i for i in sample if article_df.loc[i, \"paywall\"] == 0])\n",
    "article_dict_bad = dict_by_ids(article_df, [i for i in sample if article_df.loc[i, \"paywall\"] > 0])\n",
    "print(\"Sample 'bad' articles: \")\n",
    "for s in [str(article_dict[i]) for i in random.sample(list(article_dict_bad), 10)]:\n",
    "    print(s, \"\\n\")\n",
    "len(article_dict_bad), len(article_dict_good)"
   ]
  },
  {
   "cell_type": "code",
   "execution_count": 27,
   "metadata": {},
   "outputs": [
    {
     "name": "stdout",
     "output_type": "stream",
     "text": [
      "0 / 183 done, 0.0 seconds elapsed\n",
      "37 / 183 done, 3.74 seconds elapsed\n",
      "55 / 183 done, 5.18 seconds elapsed\n",
      "92 / 183 done, 7.21 seconds elapsed\n",
      "110 / 183 done, 8.15 seconds elapsed\n",
      "165 / 183 done, 9.51 seconds elapsed\n"
     ]
    },
    {
     "data": {
      "text/plain": [
       "0.4950980392156863"
      ]
     },
     "execution_count": 27,
     "metadata": {},
     "output_type": "execute_result"
    }
   ],
   "source": [
    "score_mat = ac.jac_score_mat(article_dict_bad)\n",
    "axislabels = list(article_dict_bad.keys())\n",
    "clusters = ac.get_article_clusters(article_dict_bad)\n",
    "ac.prop_unique_clusters()\n",
    "# 76/400 \"bad\" articles, .5s, 67.1% unique\n",
    "# 189/1000 bad articles, 2.5s, 49.2% unique\n",
    "# 186/1000 bad articles, 7.3s, 52.2% unique\n",
    "# 184/1000 bad articles, 12s, 49.5% unique\n",
    "# 183/1000 bad articles, 9.5s, 49.5% "
   ]
  },
  {
   "cell_type": "code",
   "execution_count": 28,
   "metadata": {},
   "outputs": [
    {
     "name": "stdout",
     "output_type": "stream",
     "text": [
      "0 / 817 done, 0.0 seconds elapsed\n",
      "82 / 817 done, 2128.16 seconds elapsed\n",
      "327 / 817 done, 5715.41 seconds elapsed\n",
      "409 / 817 done, 6628.89 seconds elapsed\n",
      "572 / 817 done, 7605.37 seconds elapsed\n",
      "654 / 817 done, 8017.32 seconds elapsed\n"
     ]
    },
    {
     "data": {
      "text/plain": [
       "0.4950980392156863"
      ]
     },
     "execution_count": 28,
     "metadata": {},
     "output_type": "execute_result"
    }
   ],
   "source": [
    "score_mat = ac.jac_score_mat(article_dict_good)\n",
    "axislabels = list(article_dict_good.keys())\n",
    "clusters = ac.get_article_clusters()\n",
    "ac.prop_unique_clusters()\n",
    "# 324/400 \"good\" articles, 8s, 79.0% unique\n",
    "# 817/1000 good articles, 2.25h, 69% unique"
   ]
  },
  {
   "cell_type": "code",
   "execution_count": 3,
   "metadata": {},
   "outputs": [],
   "source": [
    "n = 1000\n",
    "singleton_sample = random.sample(list(article_df.loc[np.isnan(article_df[\"event\"]), \"id\"]), n)\n",
    "singleton_dict_good = dict_by_ids(article_df, [i for i in singleton_sample if article_df.loc[i, \"paywall\"] == 0])\n",
    "singleton_dict_bad = dict_by_ids(article_df, [i for i in singleton_sample if article_df.loc[i, \"paywall\"] > 0])"
   ]
  },
  {
   "cell_type": "code",
   "execution_count": 6,
   "metadata": {},
   "outputs": [
    {
     "name": "stdout",
     "output_type": "stream",
     "text": [
      "0.4559386973180077\n",
      "104.42 seconds taken for 261 bad singleton articles\n"
     ]
    }
   ],
   "source": [
    "score_mat = ac.jac_score_mat(singleton_dict_bad)\n",
    "print(ac.prop_unique_clusters())\n",
    "\n",
    "print(\"%s seconds taken\" % np.round(time.time() - start, 2), \"for %d bad singleton articles\" % len(singleton_dict_bad))\n",
    "# 261/1000 bad singleton articles, 1.5m, 45.6% unique"
   ]
  },
  {
   "cell_type": "code",
   "execution_count": null,
   "metadata": {},
   "outputs": [
    {
     "name": "stdout",
     "output_type": "stream",
     "text": [
      "0 / 739 done, 0.0 seconds elapsed\n",
      "74 / 739 done, 824.09 seconds elapsed\n",
      "148 / 739 done, 1545.58 seconds elapsed\n",
      "222 / 739 done, 2182.34 seconds elapsed\n",
      "296 / 739 done, 2822.85 seconds elapsed\n",
      "370 / 739 done, 3377.11 seconds elapsed\n"
     ]
    }
   ],
   "source": [
    "score_mat = ac.jac_score_mat(singleton_dict_good)\n",
    "print(ac.prop_unique_clusters())\n",
    "\n",
    "print(\"%s seconds taken\" % np.round(time.time() - start, 2), \"for %d good singleton articles\" % len(singleton_dict_good))\n",
    "# 739/1000 good singleton articles, , "
   ]
  },
  {
   "cell_type": "code",
   "execution_count": null,
   "metadata": {},
   "outputs": [],
   "source": [
    "results = pd.read_csv(os.path.join(\"results\", \"results_20190601_clusters_temp.csv\"))\n",
    "plt.scatter(results.loc[:, \"n\"], results.loc[:, \"unique25\"])\n",
    "plt.title(\"Unique articles in clusters on 6/01/19, with maximum similarity of .25\")\n",
    "plt.xlabel(\"# articles in cluster\")\n",
    "plt.ylabel(\"% of unique articles\")\n",
    "print(\"Average % unique articles, weighted by cluster size (thresh = 0.25): \", np.sum(results.loc[:, \"n\"] * results.loc[:, \"unique25\"])/np.sum(results.loc[:, \"n\"]))\n",
    "plt.figure()\n",
    "plt.scatter(results.loc[:, \"n\"], results.loc[:, \"unique75\"])\n",
    "plt.title(\"Unique articles in clusters on 6/01/19, with maximum similarity of .75\")\n",
    "plt.xlabel(\"# articles in cluster\")\n",
    "plt.ylabel(\"% of unique articles\")\n",
    "print(\"Average % unique articles, weighted by cluster size (thresh = 0.75): \", np.sum(results.loc[:, \"n\"] * results.loc[:, \"unique75\"])/np.sum(results.loc[:, \"n\"]))"
   ]
  }
 ],
 "metadata": {
  "kernelspec": {
   "display_name": "Python 3",
   "language": "python",
   "name": "python3"
  },
  "language_info": {
   "codemirror_mode": {
    "name": "ipython",
    "version": 3
   },
   "file_extension": ".py",
   "mimetype": "text/x-python",
   "name": "python",
   "nbconvert_exporter": "python",
   "pygments_lexer": "ipython3",
   "version": "3.7.3"
  }
 },
 "nbformat": 4,
 "nbformat_minor": 2
}
