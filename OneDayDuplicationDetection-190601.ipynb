{
 "cells": [
  {
   "cell_type": "code",
   "execution_count": 1,
   "metadata": {},
   "outputs": [
    {
     "name": "stdout",
     "output_type": "stream",
     "text": [
      "dict_keys(['singletons', 'incompleteFingerprints', 'algoGroups', 'events', 'wordDict', 'entityDict'])\n"
     ]
    },
    {
     "data": {
      "text/html": [
       "<div>\n",
       "<style scoped>\n",
       "    .dataframe tbody tr th:only-of-type {\n",
       "        vertical-align: middle;\n",
       "    }\n",
       "\n",
       "    .dataframe tbody tr th {\n",
       "        vertical-align: top;\n",
       "    }\n",
       "\n",
       "    .dataframe thead th {\n",
       "        text-align: right;\n",
       "    }\n",
       "</style>\n",
       "<table border=\"1\" class=\"dataframe\">\n",
       "  <thead>\n",
       "    <tr style=\"text-align: right;\">\n",
       "      <th></th>\n",
       "      <th>id</th>\n",
       "      <th>publisher</th>\n",
       "      <th>scrape_time</th>\n",
       "      <th>on_homepage</th>\n",
       "      <th>url</th>\n",
       "      <th>title</th>\n",
       "      <th>text</th>\n",
       "      <th>fingerprint</th>\n",
       "      <th>event</th>\n",
       "      <th>doc</th>\n",
       "      <th>paywall</th>\n",
       "    </tr>\n",
       "  </thead>\n",
       "  <tbody>\n",
       "    <tr>\n",
       "      <th>0</th>\n",
       "      <td>0</td>\n",
       "      <td>beforeitsnews.com</td>\n",
       "      <td>2019-06-01T04:51:24-04:00</td>\n",
       "      <td>True</td>\n",
       "      <td>https://beforeitsnews.com/v3/christian-news/20...</td>\n",
       "      <td>47:2-3, 8-</td>\n",
       "      <td>First Option - Responsorial Psalm: Psalms 47:2...</td>\n",
       "      <td>{'wordCounts': {'2': 1, '713350': 1, '14736': ...</td>\n",
       "      <td>NaN</td>\n",
       "      <td>None</td>\n",
       "      <td>0</td>\n",
       "    </tr>\n",
       "    <tr>\n",
       "      <th>1</th>\n",
       "      <td>1</td>\n",
       "      <td>thehindu.com</td>\n",
       "      <td>2019-06-01T08:44:25-04:00</td>\n",
       "      <td>True</td>\n",
       "      <td>https://www.thehindu.com/news/cities/Coimbator...</td>\n",
       "      <td>In Gudalur, meat will come packed in Koova lea...</td>\n",
       "      <td>ePaper \\n Just In \\n In Gudalur, meat will com...</td>\n",
       "      <td>{'wordCounts': {'80836': 1, '3': 314, '11': 15...</td>\n",
       "      <td>NaN</td>\n",
       "      <td>None</td>\n",
       "      <td>0</td>\n",
       "    </tr>\n",
       "    <tr>\n",
       "      <th>2</th>\n",
       "      <td>2</td>\n",
       "      <td>cincinnati.com</td>\n",
       "      <td>2019-06-01T15:30:59-04:00</td>\n",
       "      <td>False</td>\n",
       "      <td>https://www.cincinnati.com/story/money/cars/20...</td>\n",
       "      <td>Trump's Mexico tariffs would hurt GM the most ...</td>\n",
       "      <td>FacebookEmail Twitter Google+ LinkedIn Pintere...</td>\n",
       "      <td>{'wordCounts': {'17655': 1, '1999': 1, '3693':...</td>\n",
       "      <td>1.0</td>\n",
       "      <td>None</td>\n",
       "      <td>0</td>\n",
       "    </tr>\n",
       "  </tbody>\n",
       "</table>\n",
       "</div>"
      ],
      "text/plain": [
       "   id          publisher                scrape_time  on_homepage  \\\n",
       "0   0  beforeitsnews.com  2019-06-01T04:51:24-04:00         True   \n",
       "1   1       thehindu.com  2019-06-01T08:44:25-04:00         True   \n",
       "2   2     cincinnati.com  2019-06-01T15:30:59-04:00        False   \n",
       "\n",
       "                                                 url  \\\n",
       "0  https://beforeitsnews.com/v3/christian-news/20...   \n",
       "1  https://www.thehindu.com/news/cities/Coimbator...   \n",
       "2  https://www.cincinnati.com/story/money/cars/20...   \n",
       "\n",
       "                                               title  \\\n",
       "0                                         47:2-3, 8-   \n",
       "1  In Gudalur, meat will come packed in Koova lea...   \n",
       "2  Trump's Mexico tariffs would hurt GM the most ...   \n",
       "\n",
       "                                                text  \\\n",
       "0  First Option - Responsorial Psalm: Psalms 47:2...   \n",
       "1  ePaper \\n Just In \\n In Gudalur, meat will com...   \n",
       "2  FacebookEmail Twitter Google+ LinkedIn Pintere...   \n",
       "\n",
       "                                         fingerprint  event   doc  paywall  \n",
       "0  {'wordCounts': {'2': 1, '713350': 1, '14736': ...    NaN  None        0  \n",
       "1  {'wordCounts': {'80836': 1, '3': 314, '11': 15...    NaN  None        0  \n",
       "2  {'wordCounts': {'17655': 1, '1999': 1, '3693':...    1.0  None        0  "
      ]
     },
     "execution_count": 1,
     "metadata": {},
     "output_type": "execute_result"
    }
   ],
   "source": [
    "import os\n",
    "import pandas as pd\n",
    "import numpy as np\n",
    "import matplotlib.pyplot as plt \n",
    "import documents as docs\n",
    "import textcomparisons as tc\n",
    "import random\n",
    "import time\n",
    "import json\n",
    "\n",
    "def readArticles(path):\n",
    "    \"\"\" Reads df of articles from the given path, and adds a column\n",
    "    to store the Document-processed article \"\"\"\n",
    "    article_df = pd.read_csv(path)\n",
    "    article_df[\"doc\"] = None\n",
    "    return article_df\n",
    "\n",
    "def dict_by_ids(df, ids):\n",
    "    \"\"\" Given a dataframe of articles and a list of article ids, \n",
    "    returns a dictionary with ids as keys and Documents as items, \n",
    "    computing and storing the Documents back in the df as needed\n",
    "    \"\"\"\n",
    "    doc_dict = {}\n",
    "    for doc_id in ids:\n",
    "        row = df[\"id\"] == doc_id\n",
    "        doc = df.loc[row, \"doc\"].iloc[0]\n",
    "        if doc is None:\n",
    "            doc = docs.Document(df.loc[row, \"text\"].iloc[0], clean = False)\n",
    "            df.loc[row, \"doc\"] = doc\n",
    "        doc_dict[doc_id] = doc\n",
    "    return doc_dict\n",
    "\n",
    "data_folder = \"data\"\n",
    "article_files = [\"articles2019-06-01_\" + str(i) + \"-\" + str(i + 5000) + \".csv\" for i in range(0, 100000, 5000)]\n",
    "article_files = article_files + [\"articles2019-06-01_100000-100755.csv\"]\n",
    "article_df = [readArticles(os.path.join(data_folder, file)) for file in article_files]\n",
    "\n",
    "article_df = pd.concat(article_df)\n",
    "article_df = article_df.reset_index(drop = True)\n",
    "\n",
    "# Get rid of garbage articles:\n",
    "# < 500 chars - not articles, most likely videos or other media\n",
    "# < 1000 chars and contains keyword, not full article, most likely paywall message of some sort \n",
    "\n",
    "keywords = [\"subscription\", \"subscribe\", \"full access\", \"digital access\", \"sign up\", \"unlimited access\", \"unlimited digital access\", \"log in\", \"sign up\"]\n",
    "\n",
    "def keywordsin(str):\n",
    "    for word in keywords:\n",
    "        if word in str:\n",
    "            return True\n",
    "    return False\n",
    "\n",
    "def isPaywall(text, to_doc = True):\n",
    "    text = text.lower()\n",
    "    if len(text) < 500:\n",
    "        article_df.loc[i, \"paywall\"] += 0.5\n",
    "    if len(text) < 1000 and keywordsin(text):\n",
    "        article_df.loc[i, \"paywall\"] += 1\n",
    "    if to_doc and article_df.loc[i, \"doc\"] is None:\n",
    "        article_df.loc[i, \"doc\"] = docs.Document(text, clean = False)\n",
    "    return article_df.loc[i, \"paywall\"] > 0\n",
    "\n",
    "article_df[\"paywall\"] = 0\n",
    "\n",
    "# events = [event for event in np.unique(article_df[\"event\"]) if not np.isnan(event)]\n",
    "event_path = os.path.join(data_folder, \"eventDict2019-06-01.json\")\n",
    "with open(event_path, encoding = \"utf8\") as json_file:\n",
    "    events = json.load(json_file)\n",
    "print(events.keys())\n",
    "article_df.head(3)"
   ]
  },
  {
   "cell_type": "code",
   "execution_count": 2,
   "metadata": {},
   "outputs": [
    {
     "name": "stdout",
     "output_type": "stream",
     "text": [
      "Number of singletons: 64173\n",
      "Number of articles clustered into top 50 events: 33124/100756 (.33)\n"
     ]
    }
   ],
   "source": [
    "N = len(article_df)\n",
    "N_top50 = np.sum(1 - np.isnan(article_df[\"event\"]))\n",
    "print(\"Number of singletons: %d\" % len(events['singletons']))\n",
    "print(\"Number of articles clustered into top 50 events: %d/%d (.%d)\" % (N_top50, N, round(N_top50/N, 2) * 100))\n",
    "\n",
    "ac = tc.ArticleComparisons()"
   ]
  },
  {
   "cell_type": "code",
   "execution_count": 3,
   "metadata": {},
   "outputs": [
    {
     "name": "stdout",
     "output_type": "stream",
     "text": [
      "Mean, 5/25/50/75/95 percentiles: 2965.829 [ 131.95  775.75 1893.   4064.   8330.15]\n"
     ]
    },
    {
     "data": {
      "image/png": "[encoded data removed]",
      "text/plain": [
       "<Figure size 432x288 with 1 Axes>"
      ]
     },
     "metadata": {
      "needs_background": "light"
     },
     "output_type": "display_data"
    }
   ],
   "source": [
    "n = 1000\n",
    "sample = random.sample(list(article_df[\"id\"]), n)\n",
    "article_dict = dict_by_ids(article_df, sample)\n",
    "start = time.time()\n",
    "\n",
    "text_len = [len(article_dict[id].text) for id in article_dict.keys()]\n",
    "plt.hist(text_len)\n",
    "plt.title(\"Length of raw text in %d sample articles\" % n)\n",
    "print(\"Mean, 5/25/50/75/95 percentiles:\", np.mean(text_len), np.percentile(text_len, [5, 25, 50, 75, 95]))"
   ]
  },
  {
   "cell_type": "code",
   "execution_count": 4,
   "metadata": {},
   "outputs": [],
   "source": [
    "start = time.time()\n",
    "# for i in range(len(article_df)):\n",
    "for i in sample:\n",
    "    if (len(sample) > 1000 and i % 100 == 0):\n",
    "        print(i, time.time() - start, \"seconds elapsed\")\n",
    "    # Suspicious if article contains keywords\n",
    "    isPaywall(article_df.loc[i, \"text\"])"
   ]
  },
  {
   "cell_type": "code",
   "execution_count": 5,
   "metadata": {},
   "outputs": [
    {
     "name": "stdout",
     "output_type": "stream",
     "text": [
      "Sample 'bad' articles:  ['(80903) \\n Today \\n Partly cloudy skies. A stray shower or thunderstorm is possible. Low 49F. Winds NNE at 5 to 10 mph.. \\n Tonight \\n Partly cloudy skies. A stray shower or thunderstorm is possible. Low 49F. Winds NNE at 5 to 10 mph. \\n Updated: June 1, 2019 @ 10:15 pm', 'Newsmax, Moneynews, Newsmax Health, and Independent. American. are registered trademarks of Newsmax Media, Inc. Newsmax TV, and Newsmax World are trademarks of Newsmax Media, Inc. \\n NEWSMAX.COM', 'Please register or log in first.', 'PorkPalooza sees welcoming weather \\n Posted: May 31, 2019 10:24 PM CDT \\n Updated: May 31, 2019 10:24 PM CDT \\n . \\n CorTrust banks on growth in Minnesota \\n Latest News - Local \\n Copyright 2019 Nexstar Broadcasting, Inc. All rights reserved. This material may not be published, broadcast, rewritten, or redistributed.', 'The Dictionary Proves To Be No Match For The 2019 Spelling Bee Champs \\n Yahoo View • \\n May 31, 2019 \\n Spelling bee officials ultimately decided they had run out of words to challenge the final eight spellers with. \\n Watch TV shows , movies and more on Yahoo View . \\n About Newsy \\n Be informed. Not influenced. Get honest, in-depth context on stories that matter with Newsy.  See More \\n Check out more stuff on Yahoo View', ' The Pittsburgh Penguins and pittsburghpenguins.com are trademarks of Lemieux Group, LP.  NHL and NHL team marks are the property of the NHL and its teams. © NHL 2019. All Rights Reserved.', ' For the remainder of the first year you will be charged $8.25 every 4 weeks until you cancel. \\n GO', 'Please enter a valid e-mail address \\n Password must be 6-20 characters \\n registration failed,Please try another Email', ' Click \"Return\" to go back and edit your entry. \\n  \\n Thank you for signing the Guest Book for Beau A. Barry. \\n All Guest Book entries and photos are reviewed for appropriate content before appearing online. Most entries will appear within 24 hours of being submitted.  \\n Share this Guest Book with family and friends.', 'Out & About | Fleet Feet (May 31, 2019) \\n By WKYT News Staff &nbsp|&nbsp \\n Posted: Fri 6:30 PM, May 31, 2019 \\n LEXINGTON, Ky. (WKYT) - A new place in town is focusing on YOUR FEET! \\n DeAnn Stephens is out and about today, joining us from FLEET FEET! a=510686371 \\n   \\n Public File Liaison:']\n"
     ]
    },
    {
     "data": {
      "text/plain": [
       "(189, 811)"
      ]
     },
     "execution_count": 5,
     "metadata": {},
     "output_type": "execute_result"
    }
   ],
   "source": [
    "article_dict_good = dict_by_ids(article_df, [i for i in sample if article_df.loc[i, \"paywall\"] == 0])\n",
    "article_dict_bad = dict_by_ids(article_df, [i for i in sample if article_df.loc[i, \"paywall\"] > 0])\n",
    "print(\"Sample 'bad' articles: \", [str(article_dict[i]) for i in random.sample(list(article_dict_bad), 10)])\n",
    "len(article_dict_bad), len(article_dict_good)"
   ]
  },
  {
   "cell_type": "code",
   "execution_count": 6,
   "metadata": {},
   "outputs": [
    {
     "data": {
      "text/plain": [
       "(189, 811)"
      ]
     },
     "execution_count": 6,
     "metadata": {},
     "output_type": "execute_result"
    }
   ],
   "source": [
    "[str(article_dict[i]) for i in random.sample(list(article_dict_bad), 10)]\n",
    "len(article_dict_bad), len(article_dict_good)"
   ]
  },
  {
   "cell_type": "code",
   "execution_count": 7,
   "metadata": {},
   "outputs": [
    {
     "name": "stdout",
     "output_type": "stream",
     "text": [
      "0 / 189 done, 0.0 seconds elapsed\n",
      "19 / 189 done, 0.73 seconds elapsed\n",
      "38 / 189 done, 1.47 seconds elapsed\n",
      "57 / 189 done, 2.13 seconds elapsed\n",
      "76 / 189 done, 2.66 seconds elapsed\n"
     ]
    },
    {
     "data": {
      "text/plain": [
       "0.49206349206349204"
      ]
     },
     "execution_count": 7,
     "metadata": {},
     "output_type": "execute_result"
    }
   ],
   "source": [
    "score_mat = ac.jac_score_mat(article_dict_bad)\n",
    "axislabels = list(article_dict_bad.keys())\n",
    "clusters = ac.get_article_clusters(article_dict_bad)\n",
    "ac.prop_unique_clusters()\n",
    "# 76/400 \"bad\" articles, .5s, 67.1% unique\n",
    "# 189/1000 bad articles, 2.5s, 49.2% unique"
   ]
  },
  {
   "cell_type": "code",
   "execution_count": 8,
   "metadata": {},
   "outputs": [
    {
     "name": "stdout",
     "output_type": "stream",
     "text": [
      "0 / 811 done, 0.0 seconds elapsed\n",
      "487 / 811 done, 5892.16 seconds elapsed\n",
      "568 / 811 done, 6184.97 seconds elapsed\n",
      "649 / 811 done, 6357.92 seconds elapsed\n",
      "730 / 811 done, 6487.77 seconds elapsed\n"
     ]
    },
    {
     "data": {
      "text/plain": [
       "0.49206349206349204"
      ]
     },
     "execution_count": 8,
     "metadata": {},
     "output_type": "execute_result"
    }
   ],
   "source": [
    "score_mat = ac.jac_score_mat(article_dict_good)\n",
    "axislabels = list(article_dict_good.keys())\n",
    "clusters = ac.get_article_clusters()\n",
    "ac.prop_unique_clusters()\n",
    "# 324/400 \"good\" articles, 8s, 79.0% unique"
   ]
  },
  {
   "cell_type": "code",
   "execution_count": 9,
   "metadata": {},
   "outputs": [
    {
     "name": "stdout",
     "output_type": "stream",
     "text": [
      "0 / 1000 done, 0.0 seconds elapsed\n",
      "100 / 1000 done, 1576.56 seconds elapsed\n",
      "200 / 1000 done, 3323.61 seconds elapsed\n",
      "300 / 1000 done, 5112.67 seconds elapsed\n",
      "400 / 1000 done, 5557.72 seconds elapsed\n",
      "500 / 1000 done, 6011.49 seconds elapsed\n",
      "600 / 1000 done, 6341.31 seconds elapsed\n",
      "700 / 1000 done, 6612.19 seconds elapsed\n",
      "800 / 1000 done, 6778.99 seconds elapsed\n",
      "900 / 1000 done, 6917.35 seconds elapsed\n"
     ]
    },
    {
     "data": {
      "text/plain": [
       "0.49206349206349204"
      ]
     },
     "execution_count": 9,
     "metadata": {},
     "output_type": "execute_result"
    }
   ],
   "source": [
    "score_mat = ac.jac_score_mat(article_dict)\n",
    "axislabels = list(article_dict.keys())\n",
    "clusters = ac.get_article_clusters()\n",
    "ac.prop_unique_clusters()\n",
    "# 400 randomly sampled articles, 10s, 63.8% unique "
   ]
  },
  {
   "cell_type": "code",
   "execution_count": 10,
   "metadata": {},
   "outputs": [
    {
     "ename": "TypeError",
     "evalue": "jac_score_mat() got an unexpected keyword argument 'weighted'",
     "output_type": "error",
     "traceback": [
      "\u001b[1;31m---------------------------------------------------------------------------\u001b[0m",
      "\u001b[1;31mTypeError\u001b[0m                                 Traceback (most recent call last)",
      "\u001b[1;32m<ipython-input-10-0c76204bd2db>\u001b[0m in \u001b[0;36m<module>\u001b[1;34m\u001b[0m\n\u001b[1;32m----> 1\u001b[1;33m \u001b[0mscore_mat\u001b[0m \u001b[1;33m=\u001b[0m \u001b[0mac\u001b[0m\u001b[1;33m.\u001b[0m\u001b[0mjac_score_mat\u001b[0m\u001b[1;33m(\u001b[0m\u001b[0marticle_dict\u001b[0m\u001b[1;33m,\u001b[0m \u001b[0mweighted\u001b[0m \u001b[1;33m=\u001b[0m \u001b[1;32mFalse\u001b[0m\u001b[1;33m)\u001b[0m\u001b[1;33m\u001b[0m\u001b[1;33m\u001b[0m\u001b[0m\n\u001b[0m\u001b[0;32m      2\u001b[0m \u001b[0maxislabels\u001b[0m \u001b[1;33m=\u001b[0m \u001b[0mlist\u001b[0m\u001b[1;33m(\u001b[0m\u001b[0marticle_dict\u001b[0m\u001b[1;33m.\u001b[0m\u001b[0mkeys\u001b[0m\u001b[1;33m(\u001b[0m\u001b[1;33m)\u001b[0m\u001b[1;33m)\u001b[0m\u001b[1;33m\u001b[0m\u001b[1;33m\u001b[0m\u001b[0m\n\u001b[0;32m      3\u001b[0m \u001b[0mclusters\u001b[0m \u001b[1;33m=\u001b[0m \u001b[0mac\u001b[0m\u001b[1;33m.\u001b[0m\u001b[0mget_article_clusters\u001b[0m\u001b[1;33m(\u001b[0m\u001b[1;33m)\u001b[0m\u001b[1;33m\u001b[0m\u001b[1;33m\u001b[0m\u001b[0m\n\u001b[0;32m      4\u001b[0m \u001b[0mac\u001b[0m\u001b[1;33m.\u001b[0m\u001b[0mprop_unique_clusters\u001b[0m\u001b[1;33m(\u001b[0m\u001b[1;33m)\u001b[0m\u001b[1;33m\u001b[0m\u001b[1;33m\u001b[0m\u001b[0m\n\u001b[0;32m      5\u001b[0m \u001b[1;33m\u001b[0m\u001b[0m\n",
      "\u001b[1;31mTypeError\u001b[0m: jac_score_mat() got an unexpected keyword argument 'weighted'"
     ]
    }
   ],
   "source": [
    "score_mat = ac.jac_score_mat(article_dict, weighted = False)\n",
    "axislabels = list(article_dict.keys())\n",
    "clusters = ac.get_article_clusters()\n",
    "ac.prop_unique_clusters()\n",
    "\n",
    "print(\"%s seconds taken\" % np.round(time.time() - start, 2))\n",
    "# 86.5% unique for n = 800 random singleton articles, ~1 hr\n",
    "# 85.3% unique for n = 1000 random singleton articles, ~1.5 hrs"
   ]
  },
  {
   "cell_type": "code",
   "execution_count": null,
   "metadata": {},
   "outputs": [],
   "source": [
    "results = pd.read_csv(os.path.join(\"results\", \"results_20190531_clusters.csv\"))\n",
    "plt.scatter(results.loc[:, \"n\"], results.loc[:, \"unique25\"])\n",
    "plt.title(\"Unique articles in clusters on 5/31/19, with maximum similarity of .25\")\n",
    "plt.xlabel(\"# articles in cluster\")\n",
    "plt.ylabel(\"% of unique articles\")\n",
    "print(\"Average % unique articles, weighted by cluster size (thresh = 0.25): \", np.sum(results.loc[:, \"n\"] * results.loc[:, \"unique25\"])/np.sum(results.loc[:, \"n\"]))\n",
    "plt.figure()\n",
    "plt.scatter(results.loc[:, \"n\"], results.loc[:, \"unique75\"])\n",
    "plt.title(\"Unique articles in clusters on 5/31/19, with maximum similarity of .75\")\n",
    "plt.xlabel(\"# articles in cluster\")\n",
    "plt.ylabel(\"% of unique articles\")\n",
    "print(\"Average % unique articles, weighted by cluster size (thresh = 0.75): \", np.sum(results.loc[:, \"n\"] * results.loc[:, \"unique75\"])/np.sum(results.loc[:, \"n\"]))"
   ]
  }
 ],
 "metadata": {
  "kernelspec": {
   "display_name": "Python 3",
   "language": "python",
   "name": "python3"
  },
  "language_info": {
   "codemirror_mode": {
    "name": "ipython",
    "version": 3
   },
   "file_extension": ".py",
   "mimetype": "text/x-python",
   "name": "python",
   "nbconvert_exporter": "python",
   "pygments_lexer": "ipython3",
   "version": "3.7.3"
  }
 },
 "nbformat": 4,
 "nbformat_minor": 2
}
