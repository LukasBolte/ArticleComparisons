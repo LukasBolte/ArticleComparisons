{
 "cells": [
  {
   "cell_type": "code",
   "execution_count": 1,
   "metadata": {},
   "outputs": [],
   "source": [
    "import os\n",
    "import pandas as pd\n",
    "import numpy as np\n",
    "import matplotlib.pyplot as plt \n",
    "import random\n",
    "import time\n",
    "import json\n",
    "\n",
    "from scripts import utils\n",
    "from scripts import documents as docs\n",
    "from scripts import comparisons \n",
    "from scripts import comparisonsmachine as machine\n",
    "\n",
    "start = time.time()\n",
    "\n",
    "data_folder = \"data\"\n",
    "df_20190601 = pd.read_pickle(os.path.join(data_folder, \"article_df_20190601\"))\n",
    "df_20180715 = pd.read_pickle(os.path.join(data_folder, \"article_df_20180715\"))\n",
    "\n",
    "# events = [event for event in np.unique(article_df[\"event\"]) if not np.isnan(event)]"
   ]
  },
  {
   "cell_type": "code",
   "execution_count": 3,
   "metadata": {},
   "outputs": [
    {
     "name": "stdout",
     "output_type": "stream",
     "text": [
      "Event dict_keys(['singletons', 'incompleteFingerprints', 'algoGroups', 'events', 'wordDict', 'entityDict'])\n",
      "Setup time: 54 seconds\n",
      "Number of singletons: 64173\n",
      "Number of articles clustered into top 50 events: 33124/100756 (.33)\n"
     ]
    },
    {
     "data": {
      "text/html": [
       "<div>\n",
       "<style scoped>\n",
       "    .dataframe tbody tr th:only-of-type {\n",
       "        vertical-align: middle;\n",
       "    }\n",
       "\n",
       "    .dataframe tbody tr th {\n",
       "        vertical-align: top;\n",
       "    }\n",
       "\n",
       "    .dataframe thead th {\n",
       "        text-align: right;\n",
       "    }\n",
       "</style>\n",
       "<table border=\"1\" class=\"dataframe\">\n",
       "  <thead>\n",
       "    <tr style=\"text-align: right;\">\n",
       "      <th></th>\n",
       "      <th>id</th>\n",
       "      <th>publisher</th>\n",
       "      <th>scrape_time</th>\n",
       "      <th>on_homepage</th>\n",
       "      <th>url</th>\n",
       "      <th>title</th>\n",
       "      <th>text</th>\n",
       "      <th>fingerprint</th>\n",
       "      <th>event</th>\n",
       "      <th>doc</th>\n",
       "      <th>paywall</th>\n",
       "    </tr>\n",
       "  </thead>\n",
       "  <tbody>\n",
       "    <tr>\n",
       "      <th>0</th>\n",
       "      <td>0</td>\n",
       "      <td>beforeitsnews.com</td>\n",
       "      <td>2019-06-01T04:51:24-04:00</td>\n",
       "      <td>True</td>\n",
       "      <td>https://beforeitsnews.com/v3/christian-news/20...</td>\n",
       "      <td>47:2-3, 8-</td>\n",
       "      <td>First Option - Responsorial Psalm: Psalms 47:2...</td>\n",
       "      <td>{'wordCounts': {'2': 1, '713350': 1, '14736': ...</td>\n",
       "      <td>NaN</td>\n",
       "      <td>None</td>\n",
       "      <td>0.0</td>\n",
       "    </tr>\n",
       "    <tr>\n",
       "      <th>1</th>\n",
       "      <td>1</td>\n",
       "      <td>thehindu.com</td>\n",
       "      <td>2019-06-01T08:44:25-04:00</td>\n",
       "      <td>True</td>\n",
       "      <td>https://www.thehindu.com/news/cities/Coimbator...</td>\n",
       "      <td>In Gudalur, meat will come packed in Koova lea...</td>\n",
       "      <td>ePaper \\n Just In \\n In Gudalur, meat will com...</td>\n",
       "      <td>{'wordCounts': {'80836': 1, '3': 314, '11': 15...</td>\n",
       "      <td>NaN</td>\n",
       "      <td>None</td>\n",
       "      <td>0.0</td>\n",
       "    </tr>\n",
       "    <tr>\n",
       "      <th>2</th>\n",
       "      <td>2</td>\n",
       "      <td>cincinnati.com</td>\n",
       "      <td>2019-06-01T15:30:59-04:00</td>\n",
       "      <td>False</td>\n",
       "      <td>https://www.cincinnati.com/story/money/cars/20...</td>\n",
       "      <td>Trump's Mexico tariffs would hurt GM the most ...</td>\n",
       "      <td>FacebookEmail Twitter Google+ LinkedIn Pintere...</td>\n",
       "      <td>{'wordCounts': {'17655': 1, '1999': 1, '3693':...</td>\n",
       "      <td>1.0</td>\n",
       "      <td>None</td>\n",
       "      <td>0.0</td>\n",
       "    </tr>\n",
       "  </tbody>\n",
       "</table>\n",
       "</div>"
      ],
      "text/plain": [
       "   id          publisher                scrape_time  on_homepage  \\\n",
       "0   0  beforeitsnews.com  2019-06-01T04:51:24-04:00         True   \n",
       "1   1       thehindu.com  2019-06-01T08:44:25-04:00         True   \n",
       "2   2     cincinnati.com  2019-06-01T15:30:59-04:00        False   \n",
       "\n",
       "                                                 url  \\\n",
       "0  https://beforeitsnews.com/v3/christian-news/20...   \n",
       "1  https://www.thehindu.com/news/cities/Coimbator...   \n",
       "2  https://www.cincinnati.com/story/money/cars/20...   \n",
       "\n",
       "                                               title  \\\n",
       "0                                         47:2-3, 8-   \n",
       "1  In Gudalur, meat will come packed in Koova lea...   \n",
       "2  Trump's Mexico tariffs would hurt GM the most ...   \n",
       "\n",
       "                                                text  \\\n",
       "0  First Option - Responsorial Psalm: Psalms 47:2...   \n",
       "1  ePaper \\n Just In \\n In Gudalur, meat will com...   \n",
       "2  FacebookEmail Twitter Google+ LinkedIn Pintere...   \n",
       "\n",
       "                                         fingerprint  event   doc  paywall  \n",
       "0  {'wordCounts': {'2': 1, '713350': 1, '14736': ...    NaN  None      0.0  \n",
       "1  {'wordCounts': {'80836': 1, '3': 314, '11': 15...    NaN  None      0.0  \n",
       "2  {'wordCounts': {'17655': 1, '1999': 1, '3693':...    1.0  None      0.0  "
      ]
     },
     "metadata": {},
     "output_type": "display_data"
    }
   ],
   "source": [
    "# PART1 : df_20190601\n",
    "\n",
    "article_df = df_20190601\n",
    "\n",
    "event_path = os.path.join(data_folder, \"eventDict2019-06-01.json\")\n",
    "with open(event_path, encoding = \"utf8\") as json_file:\n",
    "    events = json.load(json_file)\n",
    "print(\"Event\", events.keys())\n",
    "article_df.head(3)\n",
    "\n",
    "print(\"Setup time: %d seconds\" % np.round(time.time() - start))\n",
    "\n",
    "N = len(article_df)\n",
    "N_top50 = np.sum(1 - np.isnan(article_df[\"event\"]))\n",
    "print(\"Number of singletons: %d\" % len(events['singletons']))\n",
    "print(\"Number of articles clustered into top 50 events: %d/%d (.%d)\" % (N_top50, N, round(N_top50/N, 2) * 100))\n",
    "display(article_df.head(3))"
   ]
  },
  {
   "cell_type": "code",
   "execution_count": 6,
   "metadata": {},
   "outputs": [
    {
     "name": "stdout",
     "output_type": "stream",
     "text": [
      "0 / 202 done, 0.0 seconds elapsed\n",
      "61 / 202 done, 4.34 seconds elapsed\n",
      "81 / 202 done, 5.53 seconds elapsed\n",
      "101 / 202 done, 6.43 seconds elapsed\n",
      "162 / 202 done, 8.37 seconds elapsed\n",
      "182 / 202 done, 8.72 seconds elapsed\n"
     ]
    },
    {
     "data": {
      "text/plain": [
       "0.5495049504950495"
      ]
     },
     "execution_count": 6,
     "metadata": {},
     "output_type": "execute_result"
    }
   ],
   "source": [
    "score_mat = ac.jac_score_mat(article_dict_bad)\n",
    "axislabels = list(article_dict_bad.keys())\n",
    "clusters = ac.get_article_clusters(article_dict_bad)\n",
    "ac.prop_unique_clusters()\n",
    "# 189/1000 bad articles, 2.5s, 49.2% unique\n",
    "# 186/1000 bad articles, 7.3s, 52.2% unique\n",
    "# 184/1000 bad articles, 12s, 49.5% unique\n",
    "# 183/1000 bad articles, 9.5s, 49.5% \n",
    "# 181/1000 bad articles, 6s, 51.4% unique\n",
    "# 197/1000 bad articles, 8.6s, 53.8% unique \n",
    "# 202/1000, 8.7s, 55% unique"
   ]
  },
  {
   "cell_type": "code",
   "execution_count": 16,
   "metadata": {},
   "outputs": [
    {
     "name": "stdout",
     "output_type": "stream",
     "text": [
      "0 / 798 done, 0.0 seconds elapsed\n",
      "80 / 798 done, 1176.63 seconds elapsed\n",
      "160 / 798 done, 2321.25 seconds elapsed\n",
      "399 / 798 done, 5205.22 seconds elapsed\n",
      "479 / 798 done, 6021.8 seconds elapsed\n",
      "559 / 798 done, 6727.26 seconds elapsed\n"
     ]
    },
    {
     "data": {
      "text/plain": [
       "0.6741854636591479"
      ]
     },
     "execution_count": 16,
     "metadata": {},
     "output_type": "execute_result"
    }
   ],
   "source": [
    "score_mat = ac.jac_score_mat(article_dict_good)\n",
    "axislabels = list(article_dict_good.keys())\n",
    "clusters = ac.get_article_clusters()\n",
    "ac.prop_unique_clusters()\n",
    "# 817/1000 good articles, 2.25h, 69% unique\n",
    "# 819/1000 good articles, 1.25h, 68.5% unique \n",
    "# 803/1000 good articles, 1.5h, 67.2% unique \n",
    "# 798/1000 good articles, 1.5h, 67.4% unique"
   ]
  },
  {
   "cell_type": "code",
   "execution_count": 3,
   "metadata": {},
   "outputs": [
    {
     "data": {
      "text/plain": [
       "0.649"
      ]
     },
     "execution_count": 3,
     "metadata": {},
     "output_type": "execute_result"
    }
   ],
   "source": [
    "# If we didn't separate bad and good articles:\n",
    "(202 * 0.5495049504950495 + 798 * 0.6741854636591479)/1000"
   ]
  },
  {
   "cell_type": "code",
   "execution_count": 11,
   "metadata": {},
   "outputs": [],
   "source": [
    "n = 1000\n",
    "singleton_sample = random.sample(list(article_df.loc[np.isnan(article_df[\"event\"]), \"id\"]), n)\n",
    "singleton_dict_good = dict_by_ids(article_df, [i for i in singleton_sample if article_df.loc[i, \"paywall\"] == 0])\n",
    "singleton_dict_bad = dict_by_ids(article_df, [i for i in singleton_sample if article_df.loc[i, \"paywall\"] > 0])"
   ]
  },
  {
   "cell_type": "code",
   "execution_count": null,
   "metadata": {},
   "outputs": [],
   "source": []
  }
 ],
 "metadata": {
  "kernelspec": {
   "display_name": "Python 3",
   "language": "python",
   "name": "python3"
  },
  "language_info": {
   "codemirror_mode": {
    "name": "ipython",
    "version": 3
   },
   "file_extension": ".py",
   "mimetype": "text/x-python",
   "name": "python",
   "nbconvert_exporter": "python",
   "pygments_lexer": "ipython3",
   "version": "3.7.3"
  }
 },
 "nbformat": 4,
 "nbformat_minor": 2
}
