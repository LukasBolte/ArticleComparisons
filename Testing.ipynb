{
 "cells": [
  {
   "cell_type": "code",
   "execution_count": 1,
   "metadata": {},
   "outputs": [
    {
     "name": "stdout",
     "output_type": "stream",
     "text": [
      "Event sizes:  [4551, 1215, 1096, 2033, 625, 616, 810, 567, 655, 386, 884, 864, 722, 657, 495, 584, 664, 419, 393, 591, 359, 386, 325, 438, 289, 613, 792, 295, 372, 312, 314, 231, 317, 195, 220, 366, 374, 250, 312, 49884, 175, 285, 237, 1161, 553, 185, 191, 164, 182, 166]\n"
     ]
    },
    {
     "data": {
      "text/html": [
       "<div>\n",
       "<style scoped>\n",
       "    .dataframe tbody tr th:only-of-type {\n",
       "        vertical-align: middle;\n",
       "    }\n",
       "\n",
       "    .dataframe tbody tr th {\n",
       "        vertical-align: top;\n",
       "    }\n",
       "\n",
       "    .dataframe thead th {\n",
       "        text-align: right;\n",
       "    }\n",
       "</style>\n",
       "<table border=\"1\" class=\"dataframe\">\n",
       "  <thead>\n",
       "    <tr style=\"text-align: right;\">\n",
       "      <th></th>\n",
       "      <th>event</th>\n",
       "      <th>n</th>\n",
       "      <th>unique25</th>\n",
       "      <th>unique75</th>\n",
       "      <th>n_good</th>\n",
       "      <th>unique25_good</th>\n",
       "      <th>unique75_good</th>\n",
       "    </tr>\n",
       "  </thead>\n",
       "  <tbody>\n",
       "    <tr>\n",
       "      <th>count</th>\n",
       "      <td>50.00000</td>\n",
       "      <td>50.00000</td>\n",
       "      <td>50.000000</td>\n",
       "      <td>50.000000</td>\n",
       "      <td>50.000000</td>\n",
       "      <td>50.000000</td>\n",
       "      <td>50.000000</td>\n",
       "    </tr>\n",
       "    <tr>\n",
       "      <th>mean</th>\n",
       "      <td>24.50000</td>\n",
       "      <td>1575.40000</td>\n",
       "      <td>0.156708</td>\n",
       "      <td>0.259933</td>\n",
       "      <td>370.860000</td>\n",
       "      <td>0.154871</td>\n",
       "      <td>0.252684</td>\n",
       "    </tr>\n",
       "    <tr>\n",
       "      <th>std</th>\n",
       "      <td>14.57738</td>\n",
       "      <td>7003.04803</td>\n",
       "      <td>0.122543</td>\n",
       "      <td>0.166596</td>\n",
       "      <td>117.034795</td>\n",
       "      <td>0.124676</td>\n",
       "      <td>0.166669</td>\n",
       "    </tr>\n",
       "    <tr>\n",
       "      <th>min</th>\n",
       "      <td>0.00000</td>\n",
       "      <td>164.00000</td>\n",
       "      <td>0.005128</td>\n",
       "      <td>0.030769</td>\n",
       "      <td>160.000000</td>\n",
       "      <td>0.005128</td>\n",
       "      <td>0.030769</td>\n",
       "    </tr>\n",
       "    <tr>\n",
       "      <th>25%</th>\n",
       "      <td>12.25000</td>\n",
       "      <td>290.50000</td>\n",
       "      <td>0.072818</td>\n",
       "      <td>0.163385</td>\n",
       "      <td>285.250000</td>\n",
       "      <td>0.069313</td>\n",
       "      <td>0.161341</td>\n",
       "    </tr>\n",
       "    <tr>\n",
       "      <th>50%</th>\n",
       "      <td>24.50000</td>\n",
       "      <td>389.50000</td>\n",
       "      <td>0.128619</td>\n",
       "      <td>0.226378</td>\n",
       "      <td>384.500000</td>\n",
       "      <td>0.124442</td>\n",
       "      <td>0.220494</td>\n",
       "    </tr>\n",
       "    <tr>\n",
       "      <th>75%</th>\n",
       "      <td>36.75000</td>\n",
       "      <td>656.50000</td>\n",
       "      <td>0.186392</td>\n",
       "      <td>0.331730</td>\n",
       "      <td>485.500000</td>\n",
       "      <td>0.181822</td>\n",
       "      <td>0.316708</td>\n",
       "    </tr>\n",
       "    <tr>\n",
       "      <th>max</th>\n",
       "      <td>49.00000</td>\n",
       "      <td>49884.00000</td>\n",
       "      <td>0.728000</td>\n",
       "      <td>0.960000</td>\n",
       "      <td>495.000000</td>\n",
       "      <td>0.748373</td>\n",
       "      <td>0.965293</td>\n",
       "    </tr>\n",
       "  </tbody>\n",
       "</table>\n",
       "</div>"
      ],
      "text/plain": [
       "          event            n   unique25   unique75      n_good  unique25_good  \\\n",
       "count  50.00000     50.00000  50.000000  50.000000   50.000000      50.000000   \n",
       "mean   24.50000   1575.40000   0.156708   0.259933  370.860000       0.154871   \n",
       "std    14.57738   7003.04803   0.122543   0.166596  117.034795       0.124676   \n",
       "min     0.00000    164.00000   0.005128   0.030769  160.000000       0.005128   \n",
       "25%    12.25000    290.50000   0.072818   0.163385  285.250000       0.069313   \n",
       "50%    24.50000    389.50000   0.128619   0.226378  384.500000       0.124442   \n",
       "75%    36.75000    656.50000   0.186392   0.331730  485.500000       0.181822   \n",
       "max    49.00000  49884.00000   0.728000   0.960000  495.000000       0.748373   \n",
       "\n",
       "       unique75_good  \n",
       "count      50.000000  \n",
       "mean        0.252684  \n",
       "std         0.166669  \n",
       "min         0.030769  \n",
       "25%         0.161341  \n",
       "50%         0.220494  \n",
       "75%         0.316708  \n",
       "max         0.965293  "
      ]
     },
     "metadata": {},
     "output_type": "display_data"
    },
    {
     "data": {
      "text/html": [
       "<div>\n",
       "<style scoped>\n",
       "    .dataframe tbody tr th:only-of-type {\n",
       "        vertical-align: middle;\n",
       "    }\n",
       "\n",
       "    .dataframe tbody tr th {\n",
       "        vertical-align: top;\n",
       "    }\n",
       "\n",
       "    .dataframe thead th {\n",
       "        text-align: right;\n",
       "    }\n",
       "</style>\n",
       "<table border=\"1\" class=\"dataframe\">\n",
       "  <thead>\n",
       "    <tr style=\"text-align: right;\">\n",
       "      <th></th>\n",
       "      <th>id</th>\n",
       "      <th>publisher</th>\n",
       "      <th>scrape_time</th>\n",
       "      <th>on_homepage</th>\n",
       "      <th>url</th>\n",
       "      <th>title</th>\n",
       "      <th>text</th>\n",
       "      <th>fingerprint</th>\n",
       "      <th>event</th>\n",
       "      <th>doc</th>\n",
       "      <th>paywall</th>\n",
       "    </tr>\n",
       "  </thead>\n",
       "  <tbody>\n",
       "    <tr>\n",
       "      <th>0</th>\n",
       "      <td>0</td>\n",
       "      <td>wsbtv.com</td>\n",
       "      <td>2018-07-16T01:02:26-04:00</td>\n",
       "      <td>True</td>\n",
       "      <td>https://www.wsbtv.com/news/local/cobb-county/p...</td>\n",
       "      <td>Police: Missing teen with autism found, reunit...</td>\n",
       "      <td>Police: Missing teen with autism found, reunit...</td>\n",
       "      <td>{'wordCounts': {'1533': 10, '367': 3, '2619': ...</td>\n",
       "      <td>NaN</td>\n",
       "      <td>None</td>\n",
       "      <td>0.0</td>\n",
       "    </tr>\n",
       "    <tr>\n",
       "      <th>1</th>\n",
       "      <td>1</td>\n",
       "      <td>wn.com</td>\n",
       "      <td>2018-07-16T04:51:37-04:00</td>\n",
       "      <td>False</td>\n",
       "      <td>https://wn.com/Apostolic_Constitutions</td>\n",
       "      <td>Apostolic s</td>\n",
       "      <td>Apostolic Constitutions ### back to playlist #...</td>\n",
       "      <td>{'wordCounts': {'147633': 5, '5029': 6, '546':...</td>\n",
       "      <td>NaN</td>\n",
       "      <td>None</td>\n",
       "      <td>0.0</td>\n",
       "    </tr>\n",
       "  </tbody>\n",
       "</table>\n",
       "</div>"
      ],
      "text/plain": [
       "   id  publisher                scrape_time  on_homepage  \\\n",
       "0   0  wsbtv.com  2018-07-16T01:02:26-04:00         True   \n",
       "1   1     wn.com  2018-07-16T04:51:37-04:00        False   \n",
       "\n",
       "                                                 url  \\\n",
       "0  https://www.wsbtv.com/news/local/cobb-county/p...   \n",
       "1             https://wn.com/Apostolic_Constitutions   \n",
       "\n",
       "                                               title  \\\n",
       "0  Police: Missing teen with autism found, reunit...   \n",
       "1                                        Apostolic s   \n",
       "\n",
       "                                                text  \\\n",
       "0  Police: Missing teen with autism found, reunit...   \n",
       "1  Apostolic Constitutions ### back to playlist #...   \n",
       "\n",
       "                                         fingerprint  event   doc  paywall  \n",
       "0  {'wordCounts': {'1533': 10, '367': 3, '2619': ...    NaN  None      0.0  \n",
       "1  {'wordCounts': {'147633': 5, '5029': 6, '546':...    NaN  None      0.0  "
      ]
     },
     "metadata": {},
     "output_type": "display_data"
    },
    {
     "name": "stdout",
     "output_type": "stream",
     "text": [
      "Setup time: 2 seconds\n"
     ]
    }
   ],
   "source": [
    "import os\n",
    "import pandas as pd\n",
    "import numpy as np\n",
    "import matplotlib.pyplot as plt \n",
    "import documents as docs\n",
    "import textcomparisons as tc\n",
    "import random\n",
    "import time\n",
    "\n",
    "start = time.time()\n",
    "\n",
    "data_folder = \"data\"\n",
    "results_folder = \"results\"\n",
    "para_sep = \"###\"\n",
    "\n",
    "article_df = pd.read_pickle(os.path.join(data_folder, \"article_df_20180715\"))\n",
    "\n",
    "events = [event for event in np.unique(article_df[\"event\"]) if not np.isnan(event)]\n",
    "n = [len(article_df.loc[article_df[\"event\"] == event]) for event in events]\n",
    "print(\"Event sizes: \", n)\n",
    "\n",
    "try:\n",
    "    results_df = pd.read_csv(os.path.join(results_folder, \"results_20180715_clusters.csv\"))\n",
    "    display(results_df.describe())\n",
    "except: \n",
    "    results_df = pd.DataFrame(list(zip(events, n)), columns = [\"event\", \"n\"])\n",
    "    results_df[\"unique25\"] = np.nan\n",
    "    results_df[\"unique75\"] = np.nan\n",
    "    results_df[\"n_good\"] = np.nan\n",
    "    results_df[\"unique25_good\"] = np.nan\n",
    "    results_df[\"unique75_good\"] = np.nan\n",
    "\n",
    "ac = tc.ArticleComparisons(thresh_jaccard = .5, thresh_same_sent = .9, thresh_same_doc = .25)\n",
    "\n",
    "display(article_df.head(2))\n",
    "print(\"Setup time: %d seconds\" % np.round(time.time() - start))"
   ]
  },
  {
   "cell_type": "code",
   "execution_count": 2,
   "metadata": {},
   "outputs": [
    {
     "name": "stdout",
     "output_type": "stream",
     "text": [
      "Time taken to run cell: 0.000000 s (0.000000 s per document)\n",
      "[0, 1, 2, 3, 4, 5, 6, 7, 8, 9, 10, 11, 12, 13, 14, 15, 16, 17, 18, 19, 20, 21, 22, 23, 24, 25, 26, 27, 28, 29, 30, 31, 32, 33, 34, 35, 36, 37, 38, 39, 40, 41, 42, 43, 44, 45, 46, 47, 48, 49, 50, 51, 52, 53, 54, 55, 56, 57, 58, 59, 60, 61, 62, 63, 64, 65, 66, 67, 68, 69, 70, 71, 72, 73, 74, 75, 76, 77, 78, 79, 80, 81, 82, 83, 84, 85, 86, 87, 88, 89, 90, 91, 92, 93, 94, 95, 96, 97, 98, 99, 100, 101, 102, 103, 104, 105, 106, 107, 108, 109, 110, 111, 112, 113, 114, 115, 116, 117, 118, 119, 120, 121, 122, 123, 124, 125, 126, 127, 128, 129, 130, 131, 132, 133, 134, 135, 136, 137, 138, 139, 140, 141, 142, 143, 144, 145, 146, 147, 148, 149, 150, 151, 152, 153, 154, 155, 156, 157, 158, 159, 160, 161, 162, 163, 164, 165, 166, 167, 168, 169, 170, 171, 172, 173, 174, 175, 176, 177, 178, 179, 180, 181, 182, 183, 184, 185, 186, 187, 188, 189, 190, 191, 192, 193, 194, 195, 196, 197, 198, 199, 200, 201, 202, 203, 204, 205, 206, 207, 208, 209, 210, 211, 212, 213, 214, 215, 216, 217, 218, 219, 220, 221, 222, 223, 224, 225, 226, 227, 228, 229, 230, 231, 232, 233, 234, 235, 236, 237, 238, 239, 240, 241, 242, 243, 244, 245, 246, 247, 248, 249, 250, 251, 252, 253, 254, 255, 256, 257, 258, 259, 260, 261, 262, 263, 264, 265, 266, 267, 268, 269, 270, 271, 272, 273, 274, 275, 276, 277, 278, 279, 280, 281, 282, 283, 284, 285, 286, 287, 288, 289, 290, 291, 292, 293, 294, 295, 296, 297, 298, 299, 300, 301, 302, 303, 304, 305, 306, 307, 308, 309, 310, 311, 312, 313, 314, 315, 316, 317, 318, 319, 320, 321, 322, 323, 324, 325, 326, 327, 328, 329, 330, 331, 332, 333, 334, 335, 336, 337, 338, 339, 340, 341, 342, 343, 344, 345, 346, 347, 348, 349, 350, 351, 352, 353, 354, 355, 356, 357, 358, 359, 360, 361, 362, 363, 364, 365, 366, 367, 368, 369, 370, 371, 372, 373, 374, 375, 376, 377, 378, 379, 380, 381, 382, 383, 384, 385, 386, 387, 388, 389, 390, 391, 392, 393, 394, 395, 396, 397, 398, 399, 400, 401, 402, 403, 404, 405, 406, 407, 408, 409, 410, 411, 412, 413, 414, 415, 416, 417, 418, 419, 420, 421, 422, 423, 424, 425, 426, 427, 428, 429, 430, 431, 432, 433, 434, 435, 436, 437, 438, 439, 440, 441, 442, 443, 444, 445, 446, 447, 448, 449, 450, 451, 452, 453, 454, 455, 456, 457, 458, 459, 460, 461, 462, 463, 464, 465, 466, 467, 468, 469, 470, 471, 472, 473, 474, 475, 476, 477, 478, 479, 480, 481, 482, 483, 484, 485, 486, 487, 488, 489, 490, 491, 492, 493, 494, 495, 496, 497, 498, 499, 500, 501, 502, 503, 504, 505, 506, 507, 508, 509, 510, 511, 512, 513, 514, 515, 516, 517, 518, 519, 520, 521, 522, 523, 524, 525, 526, 527, 528, 529, 530, 531, 532, 533, 534, 535, 536, 537, 538, 539, 540, 541, 542, 543, 544, 545, 546, 547, 548, 549, 550, 551, 552, 553, 554, 555, 556, 557, 558, 559, 560, 561, 562, 563, 564, 565, 566, 567, 568, 569, 570, 571, 572, 573, 574, 575, 576, 577, 578, 579, 580, 581, 582, 583, 584, 585, 586, 587, 588, 589, 590, 591, 592, 593, 594, 595, 596, 597, 598, 599, 600, 601, 602, 603, 604, 605, 606, 607, 608, 609, 610, 611, 612, 613, 614, 615, 616, 617, 618, 619, 620, 621, 622, 623, 624, 625, 626, 627, 628, 629, 630, 631, 632, 633, 634, 635, 636, 637, 638, 639, 640, 641, 642, 643, 644, 645, 646, 647, 648, 649, 650, 651, 652, 653, 654, 655, 656, 657, 658, 659, 660, 661, 662, 663, 664, 665, 666, 667, 668, 669, 670, 671, 672, 673, 674, 675, 676, 677, 678, 679, 680, 681, 682, 683, 684, 685, 686, 687, 688, 689, 690, 691, 692, 693, 694, 695, 696, 697, 698, 699, 700, 701, 702, 703, 704, 705, 706, 707, 708, 709, 710, 711, 712, 713, 714, 715, 716, 717, 718, 719, 720, 721, 722, 723, 724, 725, 726, 727, 728, 729, 730, 731, 732, 733, 734, 735, 736, 737, 738, 739, 740, 741, 742, 743, 744, 745, 746, 747, 748, 749, 750, 751, 752, 753, 754, 755, 756, 757, 758, 759, 760, 761, 762, 763, 764, 765, 766, 767, 768, 769, 770, 771, 772, 773, 774, 775, 776, 777, 778, 779, 780, 781, 782, 783, 784, 785, 786, 787, 788, 789, 790, 791, 792, 793, 794, 795, 796, 797, 798, 799, 800, 801, 802, 803, 804, 805, 806, 807, 808, 809, 810, 811, 812, 813, 814, 815, 816, 817, 818, 819, 820, 821, 822, 823, 824, 825, 826, 827, 828, 829, 830, 831, 832, 833, 834, 835, 836, 837, 838, 839, 840, 841, 842, 843, 844, 845, 846, 847, 848, 849, 850, 851, 852, 853, 854, 855, 856, 857, 858, 859, 860, 861, 862, 863, 864, 865, 866, 867, 868, 869, 870, 871, 872, 873, 874, 875, 876, 877, 878, 879, 880, 881, 882, 883, 884, 885, 886, 887, 888, 889, 890, 891, 892, 893, 894, 895, 896, 897, 898, 899, 900, 901, 902, 903, 904, 905, 906, 907, 908, 909, 910, 911, 912, 913, 914, 915, 916, 917, 918, 919, 920, 921, 922, 923, 924, 925, 926, 927, 928, 929, 930, 931, 932, 933, 934, 935, 936, 937, 938, 939, 940, 941, 942, 943, 944, 945, 946, 947, 948, 949, 950, 951, 952, 953, 954, 955, 956, 957, 958, 959, 960, 961, 962, 963, 964, 965, 966, 967, 968, 969, 970, 971, 972, 973, 974, 975, 976, 977, 978, 979, 980, 981, 982, 983, 984, 985, 986, 987, 988, 989, 990, 991, 992, 993, 994, 995, 996, 997, 998, 999, 1000, 1001, 1002, 1003, 1004, 1005, 1006, 1007, 1008, 1009, 1010, 1011, 1012, 1013, 1014, 1015, 1016, 1017, 1018, 1019, 1020, 1021, 1022, 1023, 1024, 1025, 1026, 1027, 1028, 1029, 1030, 1031, 1032, 1033, 1034, 1035, 1036, 1037, 1038, 1039, 1040, 1041, 1042, 1043, 1044, 1045, 1046, 1047, 1048, 1049, 1050, 1051, 1052, 1053, 1054, 1055, 1056, 1057, 1058, 1059, 1060, 1061, 1062, 1063, 1064, 1065, 1066, 1067, 1068, 1069, 1070, 1071, 1072, 1073, 1074, 1075, 1076, 1077, 1078, 1079, 1080, 1081, 1082, 1083, 1084, 1085, 1086, 1087, 1088, 1089, 1090, 1091, 1092, 1093, 1094, 1095, 1096, 1097, 1098, 1099, 1100, 1101, 1102, 1103, 1104, 1105, 1106, 1107, 1108, 1109, 1110, 1111, 1112, 1113, 1114, 1115, 1116, 1117, 1118, 1119, 1120, 1121, 1122, 1123, 1124, 1125, 1126, 1127, 1128, 1129, 1130, 1131, 1132, 1133, 1134, 1135, 1136, 1137, 1138, 1139, 1140, 1141, 1142, 1143, 1144, 1145, 1146, 1147, 1148, 1149, 1150, 1151, 1152, 1153, 1154, 1155, 1156, 1157, 1158, 1159, 1160, 1161, 1162, 1163, 1164, 1165, 1166, 1167, 1168, 1169, 1170, 1171, 1172, 1173, 1174, 1175, 1176, 1177, 1178, 1179, 1180, 1181, 1182, 1183, 1184, 1185, 1186, 1187, 1188, 1189, 1190, 1191, 1192, 1193, 1194, 1195, 1196, 1197, 1198, 1199, 1200, 1201, 1202, 1203, 1204, 1205, 1206, 1207, 1208, 1209, 1210, 1211, 1212, 1213, 1214, 1215, 1216, 1217, 1218, 1219, 1220, 1221, 1222, 1223, 1224, 1225, 1226, 1227, 1228, 1229, 1230, 1231, 1232, 1233, 1234, 1235, 1236, 1237, 1238, 1239, 1240, 1241, 1242, 1243, 1244, 1245, 1246, 1247, 1248, 1249] 1250\n"
     ]
    }
   ],
   "source": [
    "n = 1250\n",
    "start = time.time()\n",
    "#sample = random.sample(list(article_df[\"id\"]), n)\n",
    "sample = [i for i in range(n)]#f article_df.loc[i, \"event\"] == 1]\n",
    "elapsed = round(time.time() - start, 2)\n",
    "print(\"Time taken to run cell: %f s (%f s per document)\" % (elapsed, elapsed/n))\n",
    "print(sample, len(sample))\n",
    "# 6.33"
   ]
  },
  {
   "cell_type": "code",
   "execution_count": 3,
   "metadata": {},
   "outputs": [
    {
     "name": "stdout",
     "output_type": "stream",
     "text": [
      "SPACY: parsing and comparisons runtime\n",
      "Time taken to run cell: 110.220000 s (0.088176 s per document)\n"
     ]
    }
   ],
   "source": [
    "ac = tc.ArticleComparisons(thresh_jaccard = .5, thresh_same_sent = .9, thresh_same_doc = .25)\n",
    "print(\"SPACY: parsing and comparisons runtime\")\n",
    "start = time.time()\n",
    "article_dict_spacy = ac.dict_by_ids(article_df, sample, para_sep = para_sep, parser = \"spacy\")\n",
    "\n",
    "elapsed = round(time.time() - start, 2)\n",
    "print(\"Time taken to run cell: %f s (%f s per document)\" % (elapsed, elapsed/n)) "
   ]
  },
  {
   "cell_type": "code",
   "execution_count": null,
   "metadata": {},
   "outputs": [
    {
     "name": "stdout",
     "output_type": "stream",
     "text": [
      "0 / 1250 done, 0.0 seconds elapsed\n",
      "25 / 1250 done, 95.81 seconds elapsed\n",
      "50 / 1250 done, 185.99 seconds elapsed\n",
      "75 / 1250 done, 248.13 seconds elapsed\n",
      "100 / 1250 done, 304.38 seconds elapsed\n",
      "125 / 1250 done, 374.52 seconds elapsed\n",
      "150 / 1250 done, 463.02 seconds elapsed\n",
      "175 / 1250 done, 536.76 seconds elapsed\n",
      "200 / 1250 done, 629.68 seconds elapsed\n",
      "225 / 1250 done, 693.82 seconds elapsed\n",
      "250 / 1250 done, 766.57 seconds elapsed\n",
      "275 / 1250 done, 826.79 seconds elapsed\n",
      "300 / 1250 done, 875.26 seconds elapsed\n",
      "325 / 1250 done, 953.38 seconds elapsed\n",
      "350 / 1250 done, 1018.53 seconds elapsed\n",
      "375 / 1250 done, 1085.1 seconds elapsed\n",
      "400 / 1250 done, 1139.26 seconds elapsed\n",
      "425 / 1250 done, 1187.61 seconds elapsed\n",
      "450 / 1250 done, 1228.41 seconds elapsed\n",
      "475 / 1250 done, 1274.46 seconds elapsed\n",
      "500 / 1250 done, 1354.84 seconds elapsed\n",
      "525 / 1250 done, 1402.79 seconds elapsed\n",
      "550 / 1250 done, 1513.07 seconds elapsed\n",
      "575 / 1250 done, 1551.18 seconds elapsed\n",
      "600 / 1250 done, 1586.43 seconds elapsed\n",
      "625 / 1250 done, 1627.41 seconds elapsed\n",
      "650 / 1250 done, 1650.89 seconds elapsed\n",
      "675 / 1250 done, 1675.69 seconds elapsed\n",
      "700 / 1250 done, 1709.65 seconds elapsed\n",
      "725 / 1250 done, 1746.55 seconds elapsed\n",
      "750 / 1250 done, 1788.98 seconds elapsed\n",
      "775 / 1250 done, 1824.16 seconds elapsed\n",
      "800 / 1250 done, 1850.78 seconds elapsed\n",
      "825 / 1250 done, 1873.95 seconds elapsed\n",
      "850 / 1250 done, 1904.0 seconds elapsed\n",
      "875 / 1250 done, 1925.06 seconds elapsed\n",
      "900 / 1250 done, 1944.47 seconds elapsed\n",
      "925 / 1250 done, 1962.84 seconds elapsed\n",
      "950 / 1250 done, 1994.03 seconds elapsed\n",
      "975 / 1250 done, 2032.31 seconds elapsed\n",
      "1000 / 1250 done, 2047.6 seconds elapsed\n",
      "1025 / 1250 done, 2061.17 seconds elapsed\n",
      "1050 / 1250 done, 2076.56 seconds elapsed\n",
      "1075 / 1250 done, 2101.29 seconds elapsed\n",
      "1100 / 1250 done, 2111.47 seconds elapsed\n",
      "1125 / 1250 done, 2118.69 seconds elapsed\n",
      "1150 / 1250 done, 2143.29 seconds elapsed\n",
      "1175 / 1250 done, 2148.57 seconds elapsed\n",
      "1200 / 1250 done, 2152.6 seconds elapsed\n",
      "1225 / 1250 done, 2155.54 seconds elapsed\n",
      "Time taken to run cell: 2156.550000 s (1.725240 s per document)\n"
     ]
    }
   ],
   "source": [
    "start = time.time()\n",
    "jac_mat = ac.jac_score_mat(article_dict_spacy)\n",
    "elapsed = round(time.time() - start, 2)\n",
    "print(\"Time taken to run cell: %f s (%f s per document)\" % (elapsed, elapsed/n))"
   ]
  },
  {
   "cell_type": "code",
   "execution_count": null,
   "metadata": {},
   "outputs": [
    {
     "name": "stdout",
     "output_type": "stream",
     "text": [
      "NLTK: parsing and similarities runtime\n",
      "Time taken to run cell: 18.180000 s (0.014544 s per document)\n"
     ]
    }
   ],
   "source": [
    "print(\"NLTK: parsing and similarities runtime\")\n",
    "start = time.time()\n",
    "article_dict_nltk = ac.dict_by_ids(article_df, sample, para_sep = para_sep, parser = \"nltk\")\n",
    "\n",
    "elapsed = round(time.time() - start, 2)\n",
    "print(\"Time taken to run cell: %f s (%f s per document)\" % (elapsed, elapsed/n))"
   ]
  },
  {
   "cell_type": "code",
   "execution_count": null,
   "metadata": {},
   "outputs": [
    {
     "name": "stdout",
     "output_type": "stream",
     "text": [
      "0 / 1250 done, 0.0 seconds elapsed\n",
      "25 / 1250 done, 110.87 seconds elapsed\n",
      "50 / 1250 done, 212.48 seconds elapsed\n",
      "75 / 1250 done, 294.84 seconds elapsed\n",
      "100 / 1250 done, 358.67 seconds elapsed\n",
      "125 / 1250 done, 436.42 seconds elapsed\n",
      "150 / 1250 done, 541.39 seconds elapsed\n",
      "175 / 1250 done, 624.63 seconds elapsed\n",
      "200 / 1250 done, 733.66 seconds elapsed\n",
      "225 / 1250 done, 808.85 seconds elapsed\n",
      "250 / 1250 done, 902.56 seconds elapsed\n",
      "275 / 1250 done, 978.98 seconds elapsed\n"
     ]
    }
   ],
   "source": [
    "start = time.time()\n",
    "nltk_jac_mat = ac.jac_score_mat(article_dict_nltk)\n",
    "elapsed = round(time.time() - start, 2)\n",
    "print(\"Time taken to run cell: %f s (%f s per document)\" % (elapsed, elapsed/n))"
   ]
  },
  {
   "cell_type": "code",
   "execution_count": null,
   "metadata": {},
   "outputs": [],
   "source": [
    "# For 500 docs\n",
    "# spacy: 38.6s (0.07s), 285s (0.57s) - approx. 325\n",
    "# nltk: 7.3s (0.01s), 369s (0.72s) - approx 375\n",
    "# 800\n",
    "# spacy: 63.5 (0.08s), 816.7s (1.02s) - approx 880s or 15min\n",
    "# nltk: 11.8s (0.01s), 944.9s (1.18s) - approx 955s or 16min\n",
    "# 1250 \n",
    "# spacy: 110.2 (0.09s), 2156.6s (1.73s) - approx 2266s or 38min \n",
    "# nltk: 18.2s (0.01s), "
   ]
  },
  {
   "cell_type": "code",
   "execution_count": null,
   "metadata": {},
   "outputs": [],
   "source": [
    "ac.display_mat(tc.subsetmat(nltk_jac_mat, range(min(20, len(sample)))))"
   ]
  },
  {
   "cell_type": "code",
   "execution_count": null,
   "metadata": {},
   "outputs": [],
   "source": [
    "ac.display_mat(tc.subsetmat(jac_mat, range(min(20, len(sample)))), xlabs = sample)"
   ]
  },
  {
   "cell_type": "code",
   "execution_count": null,
   "metadata": {},
   "outputs": [],
   "source": [
    "for doc_id in article_dict_spacy:\n",
    "    doc = article_dict_spacy[doc_id]\n",
    "    print(doc.get_sentences(), doc.get_bow_sentences(), doc.get_bow_sentence_lens())"
   ]
  },
  {
   "cell_type": "code",
   "execution_count": null,
   "metadata": {},
   "outputs": [],
   "source": [
    "for doc_id in article_dict_nltk:\n",
    "    doc = article_dict_nltk[doc_id]\n",
    "    print(doc.get_sentences(), doc.get_bow_sentences(), doc.get_bow_sentence_lens())"
   ]
  },
  {
   "cell_type": "code",
   "execution_count": null,
   "metadata": {},
   "outputs": [],
   "source": [
    "for doc_id in article_dict_nltk:\n",
    "    print(article_df.loc[article_df[\"id\"] == doc_id, \"text\"].iloc[0])"
   ]
  },
  {
   "cell_type": "code",
   "execution_count": null,
   "metadata": {},
   "outputs": [],
   "source": [
    "scores = np.zeros((len(sample), len(sample)))\n",
    "for i in range(len(sample)):\n",
    "    for j in range(len(sample)):\n",
    "        v1 = article_dict_spacy[sample[i]].vec\n",
    "        v2 = article_dict_spacy[sample[j]].vec\n",
    "        scores[i, j] = np.dot(v1, v2) / (np.linalg.norm(v1) * np.linalg.norm(v2))"
   ]
  },
  {
   "cell_type": "code",
   "execution_count": null,
   "metadata": {},
   "outputs": [],
   "source": [
    "plt.hist(tc.flatten(scores))\n",
    "print(np.percentile(scores, [10, 50, 90]))"
   ]
  },
  {
   "cell_type": "code",
   "execution_count": null,
   "metadata": {},
   "outputs": [],
   "source": [
    "doc1 = article_dict_spacy[0]\n",
    "doc2 = article_dict_spacy[3]\n",
    "print(ac.jaccard_score(doc1, doc2))\n",
    "ac.print_sentence_matches()"
   ]
  },
  {
   "cell_type": "code",
   "execution_count": null,
   "metadata": {},
   "outputs": [],
   "source": [
    "bow1 = doc1.get_bow_sentences()[1]\n",
    "bow2 = doc2.get_bow_sentences()[13]\n",
    "ac.jaccard_index(bow1, bow2, visualize = True)"
   ]
  },
  {
   "cell_type": "code",
   "execution_count": null,
   "metadata": {},
   "outputs": [],
   "source": [
    "print(doc1.get_bow_sentences(), \"\\n\", doc2.get_sentences())\n",
    "ac.get_match_matrix(doc1, doc2)"
   ]
  },
  {
   "cell_type": "code",
   "execution_count": null,
   "metadata": {},
   "outputs": [],
   "source": [
    "doc1 = article_dict_nltk[2]\n",
    "doc2 = article_dict_nltk[1]\n",
    "print(ac.jaccard_score(doc1, doc2))\n",
    "ac.print_sentence_matches()"
   ]
  },
  {
   "cell_type": "code",
   "execution_count": null,
   "metadata": {},
   "outputs": [],
   "source": [
    "ac.display_mat(tc.subsetmat((scores), range(min(20, len(sample)))), xlabs = sample)"
   ]
  },
  {
   "cell_type": "code",
   "execution_count": null,
   "metadata": {},
   "outputs": [],
   "source": [
    "i = 3\n",
    "text = article_df.loc[i, \"text\"]\n",
    "print(text, \"\\n\")\n",
    "\n",
    "doc = docs.Document(text, para_sep = \"###\", parser = \"spacy\")\n",
    "print(doc.sent_para_map, doc.sentences)\n",
    "print(doc.bow_sent_map, doc.bow_sentences, \"\\n\\n NLTK \\n\\n\")\n",
    "    \n",
    "doc2 = docs.Document(text, para_sep = \"###\", parser = \"nltk\")\n",
    "print(doc.sent_para_map, doc.sentences)\n",
    "print(doc.bow_sent_map, doc.bow_sentences)"
   ]
  },
  {
   "cell_type": "code",
   "execution_count": null,
   "metadata": {},
   "outputs": [],
   "source": [
    "ac.cluster_articles(article_dict_nltk, plot = True)\n",
    "nltk_clusts = ac.get_article_clusters()\n",
    "ac.prop_unique_clusters(0.25), ac.prop_unique_clusters(0.75)"
   ]
  },
  {
   "cell_type": "code",
   "execution_count": null,
   "metadata": {},
   "outputs": [],
   "source": [
    "ac.cluster_articles(article_dict_spacy, plot = True)\n",
    "spacy_clusts = ac.get_article_clusters()\n",
    "ac.prop_unique_clusters(0.25), ac.prop_unique_clusters(0.75)"
   ]
  },
  {
   "cell_type": "code",
   "execution_count": null,
   "metadata": {},
   "outputs": [],
   "source": [
    "def fxn1():\n",
    "    sample_mat = np.zeros((5, 5))\n",
    "    for i in range(5):\n",
    "        for j in range(5):\n",
    "            if (i > j): \n",
    "                sample_mat[i, j] = sample_mat[j, i]\n",
    "            elif (i == j):\n",
    "                sample_mat[i, j] = 1.0\n",
    "            else:\n",
    "                sample_mat[i, j] = i + j\n",
    "                \n",
    "def fxn2():\n",
    "    sample_mat = np.zeros((5, 5))\n",
    "    for i in range(5):\n",
    "        for j in range(i + 1, 5):\n",
    "            sample_mat[i, j] = i + j\n",
    "    sample_mat = np.maximum(sample_mat, sample_mat.transpose())\n",
    "    np.fill_diagonal(sample_mat, 1.0)"
   ]
  },
  {
   "cell_type": "code",
   "execution_count": null,
   "metadata": {},
   "outputs": [],
   "source": [
    "fxn2()"
   ]
  },
  {
   "cell_type": "code",
   "execution_count": null,
   "metadata": {},
   "outputs": [],
   "source": [
    "%timeit fxn2()"
   ]
  },
  {
   "cell_type": "code",
   "execution_count": null,
   "metadata": {},
   "outputs": [],
   "source": [
    "%timeit fxn2()"
   ]
  }
 ],
 "metadata": {
  "kernelspec": {
   "display_name": "Python 3",
   "language": "python",
   "name": "python3"
  },
  "language_info": {
   "codemirror_mode": {
    "name": "ipython",
    "version": 3
   },
   "file_extension": ".py",
   "mimetype": "text/x-python",
   "name": "python",
   "nbconvert_exporter": "python",
   "pygments_lexer": "ipython3",
   "version": "3.7.3"
  }
 },
 "nbformat": 4,
 "nbformat_minor": 2
}
