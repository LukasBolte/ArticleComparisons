{
 "cells": [
  {
   "cell_type": "code",
   "execution_count": 5,
   "metadata": {},
   "outputs": [
    {
     "name": "stdout",
     "output_type": "stream",
     "text": [
      "dict_keys(['singletons', 'incompleteFingerprints', 'algoGroups', 'events', 'wordDict', 'entityDict'])\n"
     ]
    },
    {
     "data": {
      "text/html": [
       "<div>\n",
       "<style scoped>\n",
       "    .dataframe tbody tr th:only-of-type {\n",
       "        vertical-align: middle;\n",
       "    }\n",
       "\n",
       "    .dataframe tbody tr th {\n",
       "        vertical-align: top;\n",
       "    }\n",
       "\n",
       "    .dataframe thead th {\n",
       "        text-align: right;\n",
       "    }\n",
       "</style>\n",
       "<table border=\"1\" class=\"dataframe\">\n",
       "  <thead>\n",
       "    <tr style=\"text-align: right;\">\n",
       "      <th></th>\n",
       "      <th>index</th>\n",
       "      <th>id</th>\n",
       "      <th>publisher</th>\n",
       "      <th>scrape_time</th>\n",
       "      <th>on_homepage</th>\n",
       "      <th>url</th>\n",
       "      <th>title</th>\n",
       "      <th>text</th>\n",
       "      <th>fingerprint</th>\n",
       "      <th>event</th>\n",
       "      <th>doc</th>\n",
       "    </tr>\n",
       "  </thead>\n",
       "  <tbody>\n",
       "    <tr>\n",
       "      <th>0</th>\n",
       "      <td>0</td>\n",
       "      <td>0</td>\n",
       "      <td>sfgate.com</td>\n",
       "      <td>2019-05-31T07:45:29-04:00</td>\n",
       "      <td>False</td>\n",
       "      <td>https://www.sfgate.com/news/article/Beto-O-Rou...</td>\n",
       "      <td>Beto O'Rourke bolstering Iowa staff, field off...</td>\n",
       "      <td>Beto O'Rourke bolstering Iowa staff, field off...</td>\n",
       "      <td>{'wordCounts': {'31293': 2, '38276': 5, '15430...</td>\n",
       "      <td>NaN</td>\n",
       "      <td>None</td>\n",
       "    </tr>\n",
       "    <tr>\n",
       "      <th>1</th>\n",
       "      <td>1</td>\n",
       "      <td>1</td>\n",
       "      <td>centurylink.net/news</td>\n",
       "      <td>2019-05-31T11:36:56-04:00</td>\n",
       "      <td>True</td>\n",
       "      <td>https://centurylink.net/news/read/category/new...</td>\n",
       "      <td>Robbins Geller Rudman &amp; Dowd LLP Announces Pro...</td>\n",
       "      <td>TO: ### ALL PERSONS WHO PURCHASED DIPLOMAT PHA...</td>\n",
       "      <td>{'wordCounts': {'744': 3, '421': 3, '13018': 5...</td>\n",
       "      <td>NaN</td>\n",
       "      <td>None</td>\n",
       "    </tr>\n",
       "    <tr>\n",
       "      <th>2</th>\n",
       "      <td>2</td>\n",
       "      <td>2</td>\n",
       "      <td>news.google.com</td>\n",
       "      <td>2019-05-31T15:32:23-04:00</td>\n",
       "      <td>True</td>\n",
       "      <td>https://news.google.com/stories/CAAqOQgKIjNDQk...</td>\n",
       "      <td>NaN</td>\n",
       "      <td>iMoreverified_user ### iMore ### From buying u...</td>\n",
       "      <td>{'wordCounts': {'710161': 1, '403001': 1, '226...</td>\n",
       "      <td>NaN</td>\n",
       "      <td>None</td>\n",
       "    </tr>\n",
       "  </tbody>\n",
       "</table>\n",
       "</div>"
      ],
      "text/plain": [
       "   index  id             publisher                scrape_time  on_homepage  \\\n",
       "0      0   0            sfgate.com  2019-05-31T07:45:29-04:00        False   \n",
       "1      1   1  centurylink.net/news  2019-05-31T11:36:56-04:00         True   \n",
       "2      2   2       news.google.com  2019-05-31T15:32:23-04:00         True   \n",
       "\n",
       "                                                 url  \\\n",
       "0  https://www.sfgate.com/news/article/Beto-O-Rou...   \n",
       "1  https://centurylink.net/news/read/category/new...   \n",
       "2  https://news.google.com/stories/CAAqOQgKIjNDQk...   \n",
       "\n",
       "                                               title  \\\n",
       "0  Beto O'Rourke bolstering Iowa staff, field off...   \n",
       "1  Robbins Geller Rudman & Dowd LLP Announces Pro...   \n",
       "2                                                NaN   \n",
       "\n",
       "                                                text  \\\n",
       "0  Beto O'Rourke bolstering Iowa staff, field off...   \n",
       "1  TO: ### ALL PERSONS WHO PURCHASED DIPLOMAT PHA...   \n",
       "2  iMoreverified_user ### iMore ### From buying u...   \n",
       "\n",
       "                                         fingerprint  event   doc  \n",
       "0  {'wordCounts': {'31293': 2, '38276': 5, '15430...    NaN  None  \n",
       "1  {'wordCounts': {'744': 3, '421': 3, '13018': 5...    NaN  None  \n",
       "2  {'wordCounts': {'710161': 1, '403001': 1, '226...    NaN  None  "
      ]
     },
     "execution_count": 5,
     "metadata": {},
     "output_type": "execute_result"
    }
   ],
   "source": [
    "import os\n",
    "import pandas as pd\n",
    "import numpy as np\n",
    "import matplotlib.pyplot as plt \n",
    "import documents as docs\n",
    "import textcomparisons as tc\n",
    "import random\n",
    "import time\n",
    "import json\n",
    "\n",
    "def readArticles(path):\n",
    "    \"\"\" Reads df of articles from the given path, and adds a column\n",
    "    to store the Document-processed article \"\"\"\n",
    "    article_df = pd.read_csv(path)\n",
    "    article_df[\"doc\"] = None\n",
    "    return article_df\n",
    "\n",
    "def dict_by_ids(df, ids):\n",
    "    \"\"\" Given a dataframe of articles and a list of article ids, \n",
    "    returns a dictionary with ids as keys and Documents as items, \n",
    "    computing and storing the Documents back in the df as needed\n",
    "    \"\"\"\n",
    "    doc_dict = {}\n",
    "    for doc_id in ids:\n",
    "        row = df[\"id\"] == doc_id\n",
    "        doc = df.loc[row, \"doc\"].iloc[0]\n",
    "        if doc is None:\n",
    "            doc = docs.Document(df.loc[row, \"text\"].iloc[0], clean = False)\n",
    "            df.loc[row, \"doc\"] = doc\n",
    "        doc_dict[doc_id] = doc\n",
    "    return doc_dict\n",
    "\n",
    "data_folder = \"data\"\n",
    "article_files = [\"articles2019-05-31_0-7000.csv\",\n",
    "                 \"articles2019-05-31_7000-14000.csv\",\n",
    "                 \"articles2019-05-31_14000-16654.csv\"]\n",
    "article_df = [readArticles(os.path.join(data_folder, file)) for file in article_files]\n",
    "\n",
    "article_df = pd.concat(article_df)\n",
    "article_df = article_df.reset_index()\n",
    "\n",
    "# events = [event for event in np.unique(article_df[\"event\"]) if not np.isnan(event)]\n",
    "event_path = os.path.join(data_folder, \"eventDict2019-05-31.json\")\n",
    "with open(event_path, encoding = \"utf8\") as json_file:\n",
    "    events = json.load(json_file)\n",
    "print(events.keys())\n",
    "article_df.head(3)"
   ]
  },
  {
   "cell_type": "code",
   "execution_count": 6,
   "metadata": {},
   "outputs": [
    {
     "name": "stdout",
     "output_type": "stream",
     "text": [
      "Number of singletons: 10683\n",
      "Number of articles clustered into top 50 events: 4072/16654 (.24)\n"
     ]
    }
   ],
   "source": [
    "N = len(article_df)\n",
    "N_top50 = np.sum(1 - np.isnan(article_df[\"event\"]))\n",
    "print(\"Number of singletons: %d\" % len(events['singletons']))\n",
    "print(\"Number of articles clustered into top 50 events: %d/%d (.%d)\" % (N_top50, N, round(N_top50/N, 2) * 100))\n",
    "\n",
    "ac = tc.ArticleComparisons()"
   ]
  },
  {
   "cell_type": "code",
   "execution_count": 19,
   "metadata": {},
   "outputs": [
    {
     "data": {
      "text/plain": [
       "Text(0.5, 1.0, 'Number of sentences in 1000 sample articles')"
      ]
     },
     "execution_count": 19,
     "metadata": {},
     "output_type": "execute_result"
    },
    {
     "data": {
      "image/png": "[encoded data removed]",
      "text/plain": [
       "<Figure size 432x288 with 1 Axes>"
      ]
     },
     "metadata": {
      "needs_background": "light"
     },
     "output_type": "display_data"
    },
    {
     "data": {
      "image/png": "[encoded data removed]",
      "text/plain": [
       "<Figure size 432x288 with 1 Axes>"
      ]
     },
     "metadata": {
      "needs_background": "light"
     },
     "output_type": "display_data"
    }
   ],
   "source": [
    "n = 1000\n",
    "sample = article_df.loc[random.sample(range(len(article_df)), n), \"id\"]\n",
    "article_dict = dict_by_ids(article_df, sample)\n",
    "\n",
    "n_paras = [len(article_dict[id].paragraphs) for id in article_dict.keys()]\n",
    "n_sentences = [len(article_dict[id].get_sentences()) for id in article_dict.keys()]\n",
    "\n",
    "plt.hist(n_paras)\n",
    "plt.title(\"Number of paragraphs in %d sample articles\" % n)\n",
    "\n",
    "plt.figure()\n",
    "plt.hist(n_sentences)\n",
    "plt.title(\"Number of sentences in %d sample articles\" % n)"
   ]
  },
  {
   "cell_type": "code",
   "execution_count": 20,
   "metadata": {},
   "outputs": [
    {
     "data": {
      "text/plain": [
       "Text(0.5, 1.0, 'Number of sentences in 1000 sample articles')"
      ]
     },
     "execution_count": 20,
     "metadata": {},
     "output_type": "execute_result"
    },
    {
     "data": {
      "image/png": "[encoded data removed]",
      "text/plain": [
       "<Figure size 432x288 with 1 Axes>"
      ]
     },
     "metadata": {
      "needs_background": "light"
     },
     "output_type": "display_data"
    },
    {
     "data": {
      "image/png": "[encoded data removed]",
      "text/plain": [
       "<Figure size 432x288 with 1 Axes>"
      ]
     },
     "metadata": {
      "needs_background": "light"
     },
     "output_type": "display_data"
    }
   ],
   "source": [
    "plt.boxplot(n_paras)\n",
    "plt.title(\"Number of paragraphs in %d sample articles\" % n)\n",
    "\n",
    "plt.figure()\n",
    "plt.boxplot(n_sentences)\n",
    "plt.title(\"Number of sentences in %d sample articles\" % n)"
   ]
  },
  {
   "cell_type": "code",
   "execution_count": 21,
   "metadata": {},
   "outputs": [
    {
     "name": "stdout",
     "output_type": "stream",
     "text": [
      "0 / 1000 done, 0.0 seconds elapsed\n",
      "100 / 1000 done, 804.62 seconds elapsed\n",
      "200 / 1000 done, 1491.58 seconds elapsed\n",
      "300 / 1000 done, 3125.13 seconds elapsed\n",
      "400 / 1000 done, 3888.54 seconds elapsed\n",
      "500 / 1000 done, 4454.52 seconds elapsed\n",
      "600 / 1000 done, 4925.0 seconds elapsed\n",
      "700 / 1000 done, 5378.63 seconds elapsed\n",
      "800 / 1000 done, 5700.07 seconds elapsed\n",
      "900 / 1000 done, 5860.98 seconds elapsed\n"
     ]
    },
    {
     "data": {
      "text/plain": [
       "0.844"
      ]
     },
     "execution_count": 21,
     "metadata": {},
     "output_type": "execute_result"
    }
   ],
   "source": [
    "score_mat = ac.jac_score_mat(article_dict, weighted = False)\n",
    "axislabels = list(article_dict.keys())\n",
    "clusters = ac.get_article_clusters()\n",
    "ac.prop_unique_clusters()\n",
    "# 250 random articles, 89.2% unique\n",
    "# 400 random articles, 89.0% unique, 10 min\n",
    "# 800 random articles, 83.375% unique, 60 min \n",
    "# 1000 random articles, "
   ]
  },
  {
   "cell_type": "code",
   "execution_count": 15,
   "metadata": {},
   "outputs": [
    {
     "data": {
      "text/plain": [
       "Text(0.5, 1.0, 'Number of sentences in 1000 sample articles')"
      ]
     },
     "execution_count": 15,
     "metadata": {},
     "output_type": "execute_result"
    },
    {
     "data": {
      "image/png": "[encoded data removed]",
      "text/plain": [
       "<Figure size 432x288 with 1 Axes>"
      ]
     },
     "metadata": {
      "needs_background": "light"
     },
     "output_type": "display_data"
    },
    {
     "data": {
      "image/png": "[encoded data removed]",
      "text/plain": [
       "<Figure size 432x288 with 1 Axes>"
      ]
     },
     "metadata": {
      "needs_background": "light"
     },
     "output_type": "display_data"
    }
   ],
   "source": [
    "n = 1000\n",
    "sample = article_df.loc[random.sample(events['singletons'], n), \"id\"]\n",
    "article_dict = dict_by_ids(article_df, sample)\n",
    "#sample = article_df.loc[article_df[\"event\"] == events[5], \"id\"]\n",
    "\n",
    "start = time.time()\n",
    "\n",
    "n_paras = [len(article_dict[id].paragraphs) for id in article_dict.keys()]\n",
    "n_sentences = [len(article_dict[id].get_sentences()) for id in article_dict.keys()]\n",
    "\n",
    "plt.hist(n_paras)\n",
    "plt.title(\"Number of paragraphs in %d sample articles\" % n)\n",
    "\n",
    "plt.figure()\n",
    "plt.hist(n_sentences)\n",
    "plt.title(\"Number of sentences in %d sample articles\" % n)\n",
    "# 1000 comparisons takes ~15s: estimated >2 hours for 1000 articles \n",
    "# takes about ~1min for 100 docs, ~4min for 120 docs (44%), ~28min for 321 docs (event 6, 62%), \n",
    "# 100 singleton articles: 96%, 200 (10min): 93% unique"
   ]
  },
  {
   "cell_type": "code",
   "execution_count": 16,
   "metadata": {},
   "outputs": [
    {
     "name": "stdout",
     "output_type": "stream",
     "text": [
      "0 / 1000 done, 0.0 seconds elapsed\n",
      "100 / 1000 done, 895.55 seconds elapsed\n",
      "200 / 1000 done, 1786.3 seconds elapsed\n",
      "300 / 1000 done, 2688.13 seconds elapsed\n",
      "400 / 1000 done, 3336.17 seconds elapsed\n",
      "500 / 1000 done, 3876.83 seconds elapsed\n",
      "600 / 1000 done, 4724.13 seconds elapsed\n",
      "700 / 1000 done, 5172.37 seconds elapsed\n",
      "800 / 1000 done, 5431.54 seconds elapsed\n",
      "900 / 1000 done, 5611.83 seconds elapsed\n",
      "5664.26 seconds taken\n"
     ]
    }
   ],
   "source": [
    "score_mat = ac.jac_score_mat(article_dict, weighted = False)\n",
    "axislabels = list(article_dict.keys())\n",
    "clusters = ac.get_article_clusters()\n",
    "ac.prop_unique_clusters()\n",
    "\n",
    "print(\"%s seconds taken\" % np.round(time.time() - start, 2))\n",
    "# 86.5% unique for n = 800 random singleton articles, ~1 hr\n",
    "# 85.3% unique for n = 1000 random singleton articles, ~1.5 hrs"
   ]
  },
  {
   "cell_type": "code",
   "execution_count": 17,
   "metadata": {},
   "outputs": [
    {
     "data": {
      "text/plain": [
       "0.853"
      ]
     },
     "execution_count": 17,
     "metadata": {},
     "output_type": "execute_result"
    }
   ],
   "source": [
    "ac.prop_unique_clusters()"
   ]
  },
  {
   "cell_type": "code",
   "execution_count": 13,
   "metadata": {},
   "outputs": [
    {
     "data": {
      "text/plain": [
       "Text(0.5, 1.0, 'Number of sentences in 1000 sample articles')"
      ]
     },
     "execution_count": 13,
     "metadata": {},
     "output_type": "execute_result"
    },
    {
     "data": {
      "image/png": "[encoded data removed]",
      "text/plain": [
       "<Figure size 432x288 with 1 Axes>"
      ]
     },
     "metadata": {
      "needs_background": "light"
     },
     "output_type": "display_data"
    },
    {
     "data": {
      "image/png": "[encoded data removed]",
      "text/plain": [
       "<Figure size 432x288 with 1 Axes>"
      ]
     },
     "metadata": {
      "needs_background": "light"
     },
     "output_type": "display_data"
    }
   ],
   "source": [
    "n = 1000\n",
    "sample = article_df.loc[random.sample(range(len(article_df)), n), \"id\"]\n",
    "article_dict = dict_by_ids(article_df, sample)\n",
    "\n",
    "n_paras = [len(article_dict[id].paragraphs) for id in article_dict.keys()]\n",
    "n_sentences = [len(article_dict[id].get_sentences()) for id in article_dict.keys()]\n",
    "\n",
    "plt.hist(n_paras)\n",
    "plt.title(\"Number of paragraphs in %d sample articles\" % n)\n",
    "\n",
    "plt.figure()\n",
    "plt.hist(n_sentences)\n",
    "plt.title(\"Number of sentences in %d sample articles\" % n)"
   ]
  },
  {
   "cell_type": "code",
   "execution_count": 14,
   "metadata": {},
   "outputs": [
    {
     "name": "stdout",
     "output_type": "stream",
     "text": [
      "0 / 1000 done, 0.0 seconds elapsed\n",
      "100 / 1000 done, 1146.3 seconds elapsed\n",
      "200 / 1000 done, 2108.86 seconds elapsed\n",
      "300 / 1000 done, 2904.28 seconds elapsed\n",
      "400 / 1000 done, 3601.97 seconds elapsed\n",
      "500 / 1000 done, 4191.65 seconds elapsed\n",
      "600 / 1000 done, 4672.2 seconds elapsed\n",
      "700 / 1000 done, 4954.9 seconds elapsed\n",
      "800 / 1000 done, 5341.67 seconds elapsed\n",
      "900 / 1000 done, 5486.27 seconds elapsed\n"
     ]
    },
    {
     "data": {
      "text/plain": [
       "0.838"
      ]
     },
     "execution_count": 14,
     "metadata": {},
     "output_type": "execute_result"
    }
   ],
   "source": [
    "score_mat = ac.jac_score_mat(article_dict, weighted = False)\n",
    "axislabels = list(article_dict.keys())\n",
    "clusters = ac.get_article_clusters()\n",
    "ac.prop_unique_clusters()\n",
    "# 1000 articles, 1 hour 30 min, 83.8% unique articles"
   ]
  },
  {
   "cell_type": "code",
   "execution_count": 122,
   "metadata": {},
   "outputs": [
    {
     "name": "stdout",
     "output_type": "stream",
     "text": [
      "Average % unique articles in clusters, weighted by cluster size:  0.5370874263261297\n"
     ]
    },
    {
     "data": {
      "image/png": "[encoded data removed]",
      "text/plain": [
       "<Figure size 432x288 with 1 Axes>"
      ]
     },
     "metadata": {
      "needs_background": "light"
     },
     "output_type": "display_data"
    }
   ],
   "source": [
    "results = pd.read_csv(\"results_20190531_clusters.csv\")\n",
    "plt.scatter(results.loc[:, \"n\"], results.loc[:, \"unique\"])\n",
    "plt.title(\"Unique articles in clusters on 5/31/19, with maximum similarity of .25\")\n",
    "plt.xlabel(\"# articles in cluster\")\n",
    "plt.ylabel(\"% of unique articles\")\n",
    "print(\"Average % unique articles in clusters, weighted by cluster size: \", np.sum(results.loc[:, \"n\"] * results.loc[:, \"unique\"])/np.sum(results.loc[:, \"n\"]))"
   ]
  }
 ],
 "metadata": {
  "kernelspec": {
   "display_name": "Python 3",
   "language": "python",
   "name": "python3"
  },
  "language_info": {
   "codemirror_mode": {
    "name": "ipython",
    "version": 3
   },
   "file_extension": ".py",
   "mimetype": "text/x-python",
   "name": "python",
   "nbconvert_exporter": "python",
   "pygments_lexer": "ipython3",
   "version": "3.7.3"
  }
 },
 "nbformat": 4,
 "nbformat_minor": 2
}
