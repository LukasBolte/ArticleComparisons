{
 "cells": [
  {
   "cell_type": "code",
   "execution_count": 1,
   "metadata": {},
   "outputs": [
    {
     "data": {
      "text/html": [
       "<div>\n",
       "<style scoped>\n",
       "    .dataframe tbody tr th:only-of-type {\n",
       "        vertical-align: middle;\n",
       "    }\n",
       "\n",
       "    .dataframe tbody tr th {\n",
       "        vertical-align: top;\n",
       "    }\n",
       "\n",
       "    .dataframe thead th {\n",
       "        text-align: right;\n",
       "    }\n",
       "</style>\n",
       "<table border=\"1\" class=\"dataframe\">\n",
       "  <thead>\n",
       "    <tr style=\"text-align: right;\">\n",
       "      <th></th>\n",
       "      <th>id</th>\n",
       "      <th>publisher</th>\n",
       "      <th>scrape_time</th>\n",
       "      <th>on_homepage</th>\n",
       "      <th>url</th>\n",
       "      <th>title</th>\n",
       "      <th>text</th>\n",
       "      <th>fingerprint</th>\n",
       "      <th>event</th>\n",
       "      <th>doc</th>\n",
       "      <th>paywall</th>\n",
       "    </tr>\n",
       "  </thead>\n",
       "  <tbody>\n",
       "    <tr>\n",
       "      <th>0</th>\n",
       "      <td>0</td>\n",
       "      <td>wsbtv.com</td>\n",
       "      <td>2018-07-16T01:02:26-04:00</td>\n",
       "      <td>True</td>\n",
       "      <td>https://www.wsbtv.com/news/local/cobb-county/p...</td>\n",
       "      <td>Police: Missing teen with autism found, reunit...</td>\n",
       "      <td>Police: Missing teen with autism found, reunit...</td>\n",
       "      <td>{'wordCounts': {'1533': 10, '367': 3, '2619': ...</td>\n",
       "      <td>NaN</td>\n",
       "      <td>None</td>\n",
       "      <td>0.0</td>\n",
       "    </tr>\n",
       "    <tr>\n",
       "      <th>1</th>\n",
       "      <td>1</td>\n",
       "      <td>wn.com</td>\n",
       "      <td>2018-07-16T04:51:37-04:00</td>\n",
       "      <td>False</td>\n",
       "      <td>https://wn.com/Apostolic_Constitutions</td>\n",
       "      <td>Apostolic s</td>\n",
       "      <td>Apostolic Constitutions ### back to playlist #...</td>\n",
       "      <td>{'wordCounts': {'147633': 5, '5029': 6, '546':...</td>\n",
       "      <td>NaN</td>\n",
       "      <td>None</td>\n",
       "      <td>0.0</td>\n",
       "    </tr>\n",
       "  </tbody>\n",
       "</table>\n",
       "</div>"
      ],
      "text/plain": [
       "   id  publisher                scrape_time  on_homepage  \\\n",
       "0   0  wsbtv.com  2018-07-16T01:02:26-04:00         True   \n",
       "1   1     wn.com  2018-07-16T04:51:37-04:00        False   \n",
       "\n",
       "                                                 url  \\\n",
       "0  https://www.wsbtv.com/news/local/cobb-county/p...   \n",
       "1             https://wn.com/Apostolic_Constitutions   \n",
       "\n",
       "                                               title  \\\n",
       "0  Police: Missing teen with autism found, reunit...   \n",
       "1                                        Apostolic s   \n",
       "\n",
       "                                                text  \\\n",
       "0  Police: Missing teen with autism found, reunit...   \n",
       "1  Apostolic Constitutions ### back to playlist #...   \n",
       "\n",
       "                                         fingerprint  event   doc  paywall  \n",
       "0  {'wordCounts': {'1533': 10, '367': 3, '2619': ...    NaN  None      0.0  \n",
       "1  {'wordCounts': {'147633': 5, '5029': 6, '546':...    NaN  None      0.0  "
      ]
     },
     "metadata": {},
     "output_type": "display_data"
    },
    {
     "name": "stdout",
     "output_type": "stream",
     "text": [
      "Setup time: 1 seconds\n"
     ]
    }
   ],
   "source": [
    "import os\n",
    "import pandas as pd\n",
    "import numpy as np\n",
    "import matplotlib.pyplot as plt \n",
    "import documents as docs\n",
    "import textcomparisons as tc\n",
    "import comparisonmachine_multiprocessing as machine\n",
    "import random\n",
    "import time\n",
    "\n",
    "start = time.time()\n",
    "\n",
    "data_folder = \"data\"\n",
    "results_folder = \"results\"\n",
    "para_sep = \"###\"\n",
    "\n",
    "ac = tc.ArticleComparisons(thresh_jaccard = .5, thresh_same_sent = .9, thresh_same_doc = .25)\n",
    "\n",
    "article_df = pd.read_pickle(os.path.join(data_folder, \"article_df_20180715\"))\n",
    "\n",
    "display(article_df.head(2))\n",
    "print(\"Setup time: %d seconds\" % np.round(time.time() - start))"
   ]
  },
  {
   "cell_type": "code",
   "execution_count": 2,
   "metadata": {},
   "outputs": [
    {
     "name": "stdout",
     "output_type": "stream",
     "text": [
      "100\n",
      "Time taken to run cell: 1.430000 s (0.014300 s per document)\n"
     ]
    }
   ],
   "source": [
    "n = 100\n",
    "start = time.time()\n",
    "#sample = random.sample(list(article_df[\"id\"]), n)\n",
    "sample = [i for i in range(n)]#f article_df.loc[i, \"event\"] == 1]\n",
    "print(len(sample)) #, sample)\n",
    "# article_dict_spacy = ac.dict_by_ids(article_df, sample, para_sep = para_sep, parser = \"spacy\")\n",
    "article_dict = ac.dict_by_ids(article_df, sample, para_sep = para_sep, parser = \"nltk\")\n",
    "elapsed = round(time.time() - start, 2)\n",
    "print(\"Time taken to run cell: %f s (%f s per document)\" % (elapsed, elapsed/n))\n"
   ]
  },
  {
   "cell_type": "code",
   "execution_count": 6,
   "metadata": {},
   "outputs": [],
   "source": [
    "comparer = machine.ParallelComparisons()\n",
    "mat = comparer.run(article_dict)"
   ]
  },
  {
   "cell_type": "code",
   "execution_count": 4,
   "metadata": {},
   "outputs": [
    {
     "ename": "AttributeError",
     "evalue": "'ParallelComparisons' object has no attribute 'loadDocs'",
     "output_type": "error",
     "traceback": [
      "\u001b[1;31m---------------------------------------------------------------------------\u001b[0m",
      "\u001b[1;31mAttributeError\u001b[0m                            Traceback (most recent call last)",
      "\u001b[1;32m<ipython-input-4-4bc29e323b54>\u001b[0m in \u001b[0;36m<module>\u001b[1;34m\u001b[0m\n\u001b[0;32m      1\u001b[0m \u001b[0mcomparer\u001b[0m \u001b[1;33m=\u001b[0m \u001b[0mmachine\u001b[0m\u001b[1;33m.\u001b[0m\u001b[0mParallelComparisons\u001b[0m\u001b[1;33m(\u001b[0m\u001b[1;33m)\u001b[0m\u001b[1;33m\u001b[0m\u001b[1;33m\u001b[0m\u001b[0m\n\u001b[1;32m----> 2\u001b[1;33m \u001b[0marticle_dict\u001b[0m \u001b[1;33m=\u001b[0m \u001b[0mcomparer\u001b[0m\u001b[1;33m.\u001b[0m\u001b[0mloadDocs\u001b[0m\u001b[1;33m(\u001b[0m\u001b[0marticle_df\u001b[0m\u001b[1;33m,\u001b[0m \u001b[0msample\u001b[0m\u001b[1;33m)\u001b[0m\u001b[1;33m\u001b[0m\u001b[1;33m\u001b[0m\u001b[0m\n\u001b[0m\u001b[0;32m      3\u001b[0m \u001b[0mmat\u001b[0m \u001b[1;33m=\u001b[0m \u001b[0mcomparer\u001b[0m\u001b[1;33m.\u001b[0m\u001b[0mrun\u001b[0m\u001b[1;33m(\u001b[0m\u001b[1;33m)\u001b[0m\u001b[1;33m\u001b[0m\u001b[1;33m\u001b[0m\u001b[0m\n\u001b[0;32m      4\u001b[0m \u001b[1;33m\u001b[0m\u001b[0m\n\u001b[0;32m      5\u001b[0m \u001b[1;31m#article_df.loc[sample, \"doc\"]\u001b[0m\u001b[1;33m\u001b[0m\u001b[1;33m\u001b[0m\u001b[1;33m\u001b[0m\u001b[0m\n",
      "\u001b[1;31mAttributeError\u001b[0m: 'ParallelComparisons' object has no attribute 'loadDocs'"
     ]
    }
   ],
   "source": [
    "comparer = machine.ParallelComparisons()\n",
    "article_dict = comparer.loadDocs(article_df, sample)\n",
    "mat = comparer.run()\n",
    "\n",
    "#article_df.loc[sample, \"doc\"]"
   ]
  }
 ],
 "metadata": {
  "kernelspec": {
   "display_name": "Python 3",
   "language": "python",
   "name": "python3"
  },
  "language_info": {
   "codemirror_mode": {
    "name": "ipython",
    "version": 3
   },
   "file_extension": ".py",
   "mimetype": "text/x-python",
   "name": "python",
   "nbconvert_exporter": "python",
   "pygments_lexer": "ipython3",
   "version": "3.7.3"
  }
 },
 "nbformat": 4,
 "nbformat_minor": 2
}
