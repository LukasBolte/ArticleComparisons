{
 "cells": [
  {
   "cell_type": "code",
   "execution_count": 2,
   "metadata": {},
   "outputs": [
    {
     "name": "stdout",
     "output_type": "stream",
     "text": [
      "events  dict_keys(['singletons', 'incompleteFingerprints', 'algoGroups', 'events', 'wordDict', 'entityDict'])\n"
     ]
    },
    {
     "data": {
      "text/html": [
       "<div>\n",
       "<style scoped>\n",
       "    .dataframe tbody tr th:only-of-type {\n",
       "        vertical-align: middle;\n",
       "    }\n",
       "\n",
       "    .dataframe tbody tr th {\n",
       "        vertical-align: top;\n",
       "    }\n",
       "\n",
       "    .dataframe thead th {\n",
       "        text-align: right;\n",
       "    }\n",
       "</style>\n",
       "<table border=\"1\" class=\"dataframe\">\n",
       "  <thead>\n",
       "    <tr style=\"text-align: right;\">\n",
       "      <th></th>\n",
       "      <th>id</th>\n",
       "      <th>publisher</th>\n",
       "      <th>scrape_time</th>\n",
       "      <th>on_homepage</th>\n",
       "      <th>url</th>\n",
       "      <th>title</th>\n",
       "      <th>text</th>\n",
       "      <th>fingerprint</th>\n",
       "      <th>event</th>\n",
       "      <th>doc</th>\n",
       "      <th>paywall</th>\n",
       "      <th>nchar</th>\n",
       "      <th>invalid</th>\n",
       "    </tr>\n",
       "  </thead>\n",
       "  <tbody>\n",
       "    <tr>\n",
       "      <td>0</td>\n",
       "      <td>0</td>\n",
       "      <td>beforeitsnews.com</td>\n",
       "      <td>2019-06-01T04:51:24-04:00</td>\n",
       "      <td>True</td>\n",
       "      <td>https://beforeitsnews.com/v3/christian-news/20...</td>\n",
       "      <td>47:2-3, 8-</td>\n",
       "      <td>First Option - Responsorial Psalm: Psalms 47:2...</td>\n",
       "      <td>{'wordCounts': {'2': 1, '713350': 1, '14736': ...</td>\n",
       "      <td>NaN</td>\n",
       "      <td>First Option - Responsorial Psalm: Psalms 47:2...</td>\n",
       "      <td>0.0</td>\n",
       "      <td>1292</td>\n",
       "      <td>0.0</td>\n",
       "    </tr>\n",
       "    <tr>\n",
       "      <td>1</td>\n",
       "      <td>1</td>\n",
       "      <td>thehindu.com</td>\n",
       "      <td>2019-06-01T08:44:25-04:00</td>\n",
       "      <td>True</td>\n",
       "      <td>https://www.thehindu.com/news/cities/Coimbator...</td>\n",
       "      <td>In Gudalur, meat will come packed in Koova lea...</td>\n",
       "      <td>ePaper \\n Just In \\n In Gudalur, meat will com...</td>\n",
       "      <td>{'wordCounts': {'80836': 1, '3': 314, '11': 15...</td>\n",
       "      <td>NaN</td>\n",
       "      <td>In Gudalur, meat will come packed in Koova le...</td>\n",
       "      <td>0.0</td>\n",
       "      <td>2588</td>\n",
       "      <td>0.0</td>\n",
       "    </tr>\n",
       "    <tr>\n",
       "      <td>2</td>\n",
       "      <td>2</td>\n",
       "      <td>cincinnati.com</td>\n",
       "      <td>2019-06-01T15:30:59-04:00</td>\n",
       "      <td>False</td>\n",
       "      <td>https://www.cincinnati.com/story/money/cars/20...</td>\n",
       "      <td>Trump's Mexico tariffs would hurt GM the most ...</td>\n",
       "      <td>FacebookEmail Twitter Google+ LinkedIn Pintere...</td>\n",
       "      <td>{'wordCounts': {'17655': 1, '1999': 1, '3693':...</td>\n",
       "      <td>1.0</td>\n",
       "      <td>None</td>\n",
       "      <td>0.0</td>\n",
       "      <td>781</td>\n",
       "      <td>NaN</td>\n",
       "    </tr>\n",
       "  </tbody>\n",
       "</table>\n",
       "</div>"
      ],
      "text/plain": [
       "   id          publisher                scrape_time  on_homepage  \\\n",
       "0   0  beforeitsnews.com  2019-06-01T04:51:24-04:00         True   \n",
       "1   1       thehindu.com  2019-06-01T08:44:25-04:00         True   \n",
       "2   2     cincinnati.com  2019-06-01T15:30:59-04:00        False   \n",
       "\n",
       "                                                 url  \\\n",
       "0  https://beforeitsnews.com/v3/christian-news/20...   \n",
       "1  https://www.thehindu.com/news/cities/Coimbator...   \n",
       "2  https://www.cincinnati.com/story/money/cars/20...   \n",
       "\n",
       "                                               title  \\\n",
       "0                                         47:2-3, 8-   \n",
       "1  In Gudalur, meat will come packed in Koova lea...   \n",
       "2  Trump's Mexico tariffs would hurt GM the most ...   \n",
       "\n",
       "                                                text  \\\n",
       "0  First Option - Responsorial Psalm: Psalms 47:2...   \n",
       "1  ePaper \\n Just In \\n In Gudalur, meat will com...   \n",
       "2  FacebookEmail Twitter Google+ LinkedIn Pintere...   \n",
       "\n",
       "                                         fingerprint  event  \\\n",
       "0  {'wordCounts': {'2': 1, '713350': 1, '14736': ...    NaN   \n",
       "1  {'wordCounts': {'80836': 1, '3': 314, '11': 15...    NaN   \n",
       "2  {'wordCounts': {'17655': 1, '1999': 1, '3693':...    1.0   \n",
       "\n",
       "                                                 doc  paywall  nchar  invalid  \n",
       "0  First Option - Responsorial Psalm: Psalms 47:2...      0.0   1292      0.0  \n",
       "1   In Gudalur, meat will come packed in Koova le...      0.0   2588      0.0  \n",
       "2                                               None      0.0    781      NaN  "
      ]
     },
     "metadata": {},
     "output_type": "display_data"
    }
   ],
   "source": [
    "import os\n",
    "import pandas as pd\n",
    "import numpy as np\n",
    "import matplotlib.pyplot as plt \n",
    "import random\n",
    "import time\n",
    "import json\n",
    "from collections import Counter\n",
    "# import nltk\n",
    "# from nltk.util import ngrams\n",
    "# import spacy\n",
    "# nlp = spacy.load(\"en_core_web_md\", disable = ['tagger'])\n",
    "\n",
    "from scripts import utils\n",
    "from scripts import documents as docs\n",
    "from scripts import comparisons \n",
    "from scripts import comparisonsmachine as machine\n",
    "\n",
    "data_folder = \"data\"\n",
    "\n",
    "# article_df = pd.read_pickle(os.path.join(data_folder, \"article_df_20190601\"))\n",
    "article_df = pd.read_pickle(os.path.join(data_folder, \"pickled_df_20190601\"))\n",
    "article_df = article_df.reset_index(drop = True)\n",
    "# article_df[\"nchar\"] = [len(article_df[\"text\"][i]) for i in range(len(article_df))]\n",
    "\n",
    "event_names = np.unique(article_df[\"event\"].dropna())\n",
    "\n",
    "# events = [event for event in np.unique(article_df[\"event\"]) if not np.isnan(event)]\n",
    "event_path = os.path.join(data_folder, \"eventDict2019-06-01.json\")\n",
    "with open(event_path, encoding = \"utf8\") as json_file:\n",
    "    events = json.load(json_file)\n",
    "print(\"events \", events.keys())\n",
    "\n",
    "para_sep = \"\\n\"\n",
    "dd = comparisons.DuplicationDetection()\n",
    "cm = machine.MultiComparisons()\n",
    "cm.para_sep = para_sep\n",
    "\n",
    "display(article_df.head(3))"
   ]
  },
  {
   "cell_type": "code",
   "execution_count": 3,
   "metadata": {},
   "outputs": [
    {
     "name": "stdout",
     "output_type": "stream",
     "text": [
      "Loaded documents via multiprocessing, 5.30m elapsed\n"
     ]
    }
   ],
   "source": [
    "cm.setThresholds(thresh_jaccard = .5, thresh_same_sent = .9, thresh_same_doc = .75)\n",
    "n = 2000\n",
    "sample = random.sample(list(article_df[\"id\"]), n)\n",
    "article_dict = cm.dict_by_ids(article_df, sample, para_sep, \"spacy\")"
   ]
  },
  {
   "cell_type": "code",
   "execution_count": 6,
   "metadata": {},
   "outputs": [
    {
     "data": {
      "text/plain": [
       "(346, 1654)"
      ]
     },
     "execution_count": 6,
     "metadata": {},
     "output_type": "execute_result"
    }
   ],
   "source": [
    "article_df[\"invalid\"] = [doc.invalid if doc is not None else np.nan for doc in article_df[\"doc\"]]\n",
    "invalid_ids = np.array([i for i in sample if article_df[\"invalid\"][i] > 0])\n",
    "valid_ids = np.array([i for i in sample if i not in invalid_ids])\n",
    "len(invalid_ids), len(valid_ids)"
   ]
  },
  {
   "cell_type": "code",
   "execution_count": null,
   "metadata": {},
   "outputs": [],
   "source": [
    "len(article_df[article_df])\n",
    "pd.to_pickle(article_df, os.path.join(data_folder, \"pickled_df_20190601\"))"
   ]
  },
  {
   "cell_type": "code",
   "execution_count": null,
   "metadata": {},
   "outputs": [],
   "source": []
  }
 ],
 "metadata": {
  "kernelspec": {
   "display_name": "Python 3",
   "language": "python",
   "name": "python3"
  },
  "language_info": {
   "codemirror_mode": {
    "name": "ipython",
    "version": 3
   },
   "file_extension": ".py",
   "mimetype": "text/x-python",
   "name": "python",
   "nbconvert_exporter": "python",
   "pygments_lexer": "ipython3",
   "version": "3.7.4"
  }
 },
 "nbformat": 4,
 "nbformat_minor": 2
}
